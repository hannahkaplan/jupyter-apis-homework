{
 "cells": [
  {
   "cell_type": "markdown",
   "metadata": {},
   "source": [
    "# WeatherAPI (Weather)\n",
    "\n",
    "Answer the following questions using [WeatherAPI](http://www.weatherapi.com/). I've added three cells for most questions but you're free to use more or less! Hold `Shift` and hit `Enter` to run a cell, and use the `+` on the top left to add a new cell to a notebook.\n",
    "\n",
    "Be sure to take advantage of both the documentation and the API Explorer!\n",
    "\n",
    "## 0) Import any libraries you might need\n",
    "\n",
    "- *Tip: We're going to be downloading things from the internet, so we probably need `requests`.*\n",
    "- *Tip: Remember you only need to import requests once!*"
   ]
  },
  {
   "cell_type": "code",
   "execution_count": 2,
   "metadata": {},
   "outputs": [],
   "source": [
    "import requests"
   ]
  },
  {
   "cell_type": "code",
   "execution_count": 3,
   "metadata": {},
   "outputs": [],
   "source": [
    "response = requests.get(\"http://api.weatherapi.com/v1/current.json?key=f8bcc9708bab402f80313027211706&q=Boston\")"
   ]
  },
  {
   "cell_type": "markdown",
   "metadata": {
    "collapsed": true
   },
   "source": [
    "## 1) Make a request to the Weather API for where you were born (or lived, or want to visit!).\n",
    "\n",
    "- *Tip: This sure seems familiar.*"
   ]
  },
  {
   "cell_type": "code",
   "execution_count": 4,
   "metadata": {},
   "outputs": [],
   "source": [
    "data=response.json()"
   ]
  },
  {
   "cell_type": "code",
   "execution_count": 5,
   "metadata": {},
   "outputs": [
    {
     "name": "stdout",
     "output_type": "stream",
     "text": [
      "{'location': {'name': 'Boston', 'region': 'Massachusetts', 'country': 'United States of America', 'lat': 42.36, 'lon': -71.06, 'tz_id': 'America/New_York', 'localtime_epoch': 1623975071, 'localtime': '2021-06-17 20:11'}, 'current': {'last_updated_epoch': 1623970800, 'last_updated': '2021-06-17 19:00', 'temp_c': 25.6, 'temp_f': 78.1, 'is_day': 1, 'condition': {'text': 'Partly cloudy', 'icon': '//cdn.weatherapi.com/weather/64x64/day/116.png', 'code': 1003}, 'wind_mph': 8.1, 'wind_kph': 13.0, 'wind_degree': 300, 'wind_dir': 'WNW', 'pressure_mb': 1013.0, 'pressure_in': 30.4, 'precip_mm': 0.0, 'precip_in': 0.0, 'humidity': 25, 'cloud': 50, 'feelslike_c': 25.2, 'feelslike_f': 77.3, 'vis_km': 16.0, 'vis_miles': 9.0, 'uv': 7.0, 'gust_mph': 3.8, 'gust_kph': 6.1}}\n"
     ]
    }
   ],
   "source": [
    "print(data)"
   ]
  },
  {
   "cell_type": "code",
   "execution_count": null,
   "metadata": {
    "collapsed": true
   },
   "outputs": [],
   "source": []
  },
  {
   "cell_type": "markdown",
   "metadata": {},
   "source": [
    "## 2) What's the current wind speed, and how much warmer does it feel than it actually is?\n",
    "\n",
    "- *Tip: You can do this by browsing through the dictionaries, but it might be easier to read the documentation*\n",
    "- *Tip: For the second half: it **is** one temperature, and it **feels** a different temperature. Calculate the difference. Same as we did last time!*"
   ]
  },
  {
   "cell_type": "code",
   "execution_count": 8,
   "metadata": {},
   "outputs": [
    {
     "name": "stdout",
     "output_type": "stream",
     "text": [
      "dict_keys(['location', 'current'])\n"
     ]
    }
   ],
   "source": [
    "print(data.keys())"
   ]
  },
  {
   "cell_type": "code",
   "execution_count": 9,
   "metadata": {},
   "outputs": [
    {
     "name": "stdout",
     "output_type": "stream",
     "text": [
      "{'last_updated_epoch': 1623970800, 'last_updated': '2021-06-17 19:00', 'temp_c': 25.6, 'temp_f': 78.1, 'is_day': 1, 'condition': {'text': 'Partly cloudy', 'icon': '//cdn.weatherapi.com/weather/64x64/day/116.png', 'code': 1003}, 'wind_mph': 8.1, 'wind_kph': 13.0, 'wind_degree': 300, 'wind_dir': 'WNW', 'pressure_mb': 1013.0, 'pressure_in': 30.4, 'precip_mm': 0.0, 'precip_in': 0.0, 'humidity': 25, 'cloud': 50, 'feelslike_c': 25.2, 'feelslike_f': 77.3, 'vis_km': 16.0, 'vis_miles': 9.0, 'uv': 7.0, 'gust_mph': 3.8, 'gust_kph': 6.1}\n"
     ]
    }
   ],
   "source": [
    "print(data['current'])"
   ]
  },
  {
   "cell_type": "code",
   "execution_count": 10,
   "metadata": {},
   "outputs": [
    {
     "name": "stdout",
     "output_type": "stream",
     "text": [
      "8.1\n"
     ]
    }
   ],
   "source": [
    "print(data['current']['wind_mph'])"
   ]
  },
  {
   "cell_type": "code",
   "execution_count": 14,
   "metadata": {},
   "outputs": [],
   "source": [
    "actual_temp = data['current']['temp_f']"
   ]
  },
  {
   "cell_type": "code",
   "execution_count": 15,
   "metadata": {},
   "outputs": [],
   "source": [
    "feels_temp = data['current']['feelslike_f']"
   ]
  },
  {
   "cell_type": "code",
   "execution_count": 17,
   "metadata": {},
   "outputs": [
    {
     "name": "stdout",
     "output_type": "stream",
     "text": [
      "1\n"
     ]
    }
   ],
   "source": [
    "print(round(actual_temp) - round(feels_temp))"
   ]
  },
  {
   "cell_type": "code",
   "execution_count": null,
   "metadata": {},
   "outputs": [],
   "source": []
  },
  {
   "cell_type": "code",
   "execution_count": null,
   "metadata": {},
   "outputs": [],
   "source": []
  },
  {
   "cell_type": "markdown",
   "metadata": {},
   "source": [
    "## 3) What is the API endpoint for moon-related information? For the place you decided on above, how much of the moon will be visible on next Thursday?\n",
    "\n",
    "- *Tip: Check the documentation!*\n",
    "- *Tip: If you aren't sure what something means, ask in Slack*"
   ]
  },
  {
   "cell_type": "code",
   "execution_count": 49,
   "metadata": {},
   "outputs": [],
   "source": [
    "new_url = requests.get(\"http://api.weatherapi.com/v1/astronomy.json?key=f8bcc9708bab402f80313027211706&q=Boston&dt=2021-06-24&days=7\")"
   ]
  },
  {
   "cell_type": "code",
   "execution_count": 50,
   "metadata": {},
   "outputs": [],
   "source": [
    "moon = new_url.json()"
   ]
  },
  {
   "cell_type": "code",
   "execution_count": 51,
   "metadata": {},
   "outputs": [
    {
     "name": "stdout",
     "output_type": "stream",
     "text": [
      "{'location': {'name': 'Boston', 'region': 'Massachusetts', 'country': 'United States of America', 'lat': 42.36, 'lon': -71.06, 'tz_id': 'America/New_York', 'localtime_epoch': 1623977361, 'localtime': '2021-06-17 20:49'}, 'astronomy': {'astro': {'sunrise': '05:09 AM', 'sunset': '08:25 PM', 'moonrise': '08:47 PM', 'moonset': '04:40 AM', 'moon_phase': 'Full Moon', 'moon_illumination': '100'}}}\n"
     ]
    }
   ],
   "source": [
    "print(moon)"
   ]
  },
  {
   "cell_type": "code",
   "execution_count": 52,
   "metadata": {},
   "outputs": [
    {
     "name": "stdout",
     "output_type": "stream",
     "text": [
      "dict_keys(['location', 'astronomy'])\n"
     ]
    }
   ],
   "source": [
    "print(moon.keys())"
   ]
  },
  {
   "cell_type": "code",
   "execution_count": 53,
   "metadata": {},
   "outputs": [
    {
     "name": "stdout",
     "output_type": "stream",
     "text": [
      "dict_keys(['astro'])\n"
     ]
    }
   ],
   "source": [
    "print(moon['astronomy'].keys())"
   ]
  },
  {
   "cell_type": "code",
   "execution_count": 54,
   "metadata": {},
   "outputs": [
    {
     "name": "stdout",
     "output_type": "stream",
     "text": [
      "{'sunrise': '05:09 AM', 'sunset': '08:25 PM', 'moonrise': '08:47 PM', 'moonset': '04:40 AM', 'moon_phase': 'Full Moon', 'moon_illumination': '100'}\n"
     ]
    }
   ],
   "source": [
    "print(moon['astronomy']['astro'])"
   ]
  },
  {
   "cell_type": "code",
   "execution_count": 55,
   "metadata": {},
   "outputs": [
    {
     "name": "stdout",
     "output_type": "stream",
     "text": [
      "dict_keys(['name', 'region', 'country', 'lat', 'lon', 'tz_id', 'localtime_epoch', 'localtime'])\n"
     ]
    }
   ],
   "source": [
    "print(moon['location'].keys())"
   ]
  },
  {
   "cell_type": "code",
   "execution_count": 56,
   "metadata": {},
   "outputs": [
    {
     "name": "stdout",
     "output_type": "stream",
     "text": [
      "2021-06-17 20:49\n"
     ]
    }
   ],
   "source": [
    "print(moon['location']['localtime'])"
   ]
  },
  {
   "cell_type": "code",
   "execution_count": 59,
   "metadata": {},
   "outputs": [
    {
     "name": "stdout",
     "output_type": "stream",
     "text": [
      "The moon will be a Full Moon\n"
     ]
    }
   ],
   "source": [
    "print(\"The moon will be a\", moon['astronomy']['astro']['moon_phase'])"
   ]
  },
  {
   "cell_type": "markdown",
   "metadata": {},
   "source": [
    "## 4) What's the difference between the high and low temperatures for today?\n",
    "\n",
    "- *Tip: When you requested moon data, you probably overwrote your variables! If so, you'll need to make a new request.*"
   ]
  },
  {
   "cell_type": "code",
   "execution_count": 78,
   "metadata": {},
   "outputs": [],
   "source": [
    "url = requests.get(\"http://api.weatherapi.com/v1/forecast.json?key=f8bcc9708bab402f80313027211706&q=new york&aqi=no\")"
   ]
  },
  {
   "cell_type": "code",
   "execution_count": 79,
   "metadata": {},
   "outputs": [],
   "source": [
    "nyc_temp = url.json()"
   ]
  },
  {
   "cell_type": "code",
   "execution_count": 80,
   "metadata": {},
   "outputs": [
    {
     "name": "stdout",
     "output_type": "stream",
     "text": [
      "dict_keys(['location', 'current', 'forecast'])\n"
     ]
    }
   ],
   "source": [
    "print(nyc_temp.keys())"
   ]
  },
  {
   "cell_type": "code",
   "execution_count": 84,
   "metadata": {},
   "outputs": [
    {
     "name": "stdout",
     "output_type": "stream",
     "text": [
      "dict_keys(['forecastday'])\n"
     ]
    }
   ],
   "source": [
    "print(nyc_temp['forecast'].keys())"
   ]
  },
  {
   "cell_type": "code",
   "execution_count": 108,
   "metadata": {},
   "outputs": [
    {
     "name": "stdout",
     "output_type": "stream",
     "text": [
      "[{'date': '2021-06-17', 'date_epoch': 1623888000, 'day': {'maxtemp_c': 27.6, 'maxtemp_f': 81.7, 'mintemp_c': 16.1, 'mintemp_f': 61.0, 'avgtemp_c': 22.1, 'avgtemp_f': 71.8, 'maxwind_mph': 7.6, 'maxwind_kph': 12.2, 'totalprecip_mm': 0.0, 'totalprecip_in': 0.0, 'avgvis_km': 10.0, 'avgvis_miles': 6.0, 'avghumidity': 34.0, 'daily_will_it_rain': 0, 'daily_chance_of_rain': '0', 'daily_will_it_snow': 0, 'daily_chance_of_snow': '0', 'condition': {'text': 'Partly cloudy', 'icon': '//cdn.weatherapi.com/weather/64x64/day/116.png', 'code': 1003}, 'uv': 7.0}, 'astro': {'sunrise': '05:25 AM', 'sunset': '08:30 PM', 'moonrise': '12:16 PM', 'moonset': '01:02 AM', 'moon_phase': 'Waxing Gibbous', 'moon_illumination': '55'}, 'hour': [{'time_epoch': 1623902400, 'time': '2021-06-17 00:00', 'temp_c': 17.8, 'temp_f': 64.0, 'is_day': 0, 'condition': {'text': 'Partly cloudy', 'icon': '//cdn.weatherapi.com/weather/64x64/night/116.png', 'code': 1003}, 'wind_mph': 9.6, 'wind_kph': 15.5, 'wind_degree': 326, 'wind_dir': 'NNW', 'pressure_mb': 1014.0, 'pressure_in': 30.4, 'precip_mm': 0.0, 'precip_in': 0.0, 'humidity': 43, 'cloud': 12, 'feelslike_c': 17.8, 'feelslike_f': 64.0, 'windchill_c': 17.8, 'windchill_f': 64.0, 'heatindex_c': 17.8, 'heatindex_f': 64.0, 'dewpoint_c': 5.1, 'dewpoint_f': 41.2, 'will_it_rain': 0, 'chance_of_rain': '0', 'will_it_snow': 0, 'chance_of_snow': '0', 'vis_km': 10.0, 'vis_miles': 6.0, 'gust_mph': 13.0, 'gust_kph': 20.9, 'uv': 1.0}, {'time_epoch': 1623906000, 'time': '2021-06-17 01:00', 'temp_c': 16.9, 'temp_f': 62.4, 'is_day': 0, 'condition': {'text': 'Partly cloudy', 'icon': '//cdn.weatherapi.com/weather/64x64/night/116.png', 'code': 1003}, 'wind_mph': 8.7, 'wind_kph': 14.0, 'wind_degree': 321, 'wind_dir': 'NW', 'pressure_mb': 1014.0, 'pressure_in': 30.4, 'precip_mm': 0.0, 'precip_in': 0.0, 'humidity': 44, 'cloud': 21, 'feelslike_c': 16.9, 'feelslike_f': 62.4, 'windchill_c': 16.9, 'windchill_f': 62.4, 'heatindex_c': 16.9, 'heatindex_f': 62.4, 'dewpoint_c': 4.6, 'dewpoint_f': 40.3, 'will_it_rain': 0, 'chance_of_rain': '0', 'will_it_snow': 0, 'chance_of_snow': '0', 'vis_km': 10.0, 'vis_miles': 6.0, 'gust_mph': 11.6, 'gust_kph': 18.7, 'uv': 1.0}, {'time_epoch': 1623909600, 'time': '2021-06-17 02:00', 'temp_c': 16.1, 'temp_f': 61.0, 'is_day': 0, 'condition': {'text': 'Partly cloudy', 'icon': '//cdn.weatherapi.com/weather/64x64/night/116.png', 'code': 1003}, 'wind_mph': 7.6, 'wind_kph': 12.2, 'wind_degree': 316, 'wind_dir': 'NW', 'pressure_mb': 1014.0, 'pressure_in': 30.4, 'precip_mm': 0.0, 'precip_in': 0.0, 'humidity': 44, 'cloud': 30, 'feelslike_c': 16.1, 'feelslike_f': 61.0, 'windchill_c': 16.1, 'windchill_f': 61.0, 'heatindex_c': 16.1, 'heatindex_f': 61.0, 'dewpoint_c': 4.0, 'dewpoint_f': 39.2, 'will_it_rain': 0, 'chance_of_rain': '0', 'will_it_snow': 0, 'chance_of_snow': '0', 'vis_km': 10.0, 'vis_miles': 6.0, 'gust_mph': 10.1, 'gust_kph': 16.2, 'uv': 1.0}, {'time_epoch': 1623913200, 'time': '2021-06-17 03:00', 'temp_c': 16.1, 'temp_f': 61.0, 'is_day': 0, 'condition': {'text': 'Partly cloudy', 'icon': '//cdn.weatherapi.com/weather/64x64/night/116.png', 'code': 1003}, 'wind_mph': 7.2, 'wind_kph': 11.5, 'wind_degree': 319, 'wind_dir': 'NW', 'pressure_mb': 1014.0, 'pressure_in': 30.4, 'precip_mm': 0.0, 'precip_in': 0.0, 'humidity': 45, 'cloud': 24, 'feelslike_c': 16.1, 'feelslike_f': 61.0, 'windchill_c': 16.1, 'windchill_f': 61.0, 'heatindex_c': 16.1, 'heatindex_f': 61.0, 'dewpoint_c': 4.2, 'dewpoint_f': 39.6, 'will_it_rain': 0, 'chance_of_rain': '0', 'will_it_snow': 0, 'chance_of_snow': '0', 'vis_km': 10.0, 'vis_miles': 6.0, 'gust_mph': 9.6, 'gust_kph': 15.5, 'uv': 1.0}, {'time_epoch': 1623916800, 'time': '2021-06-17 04:00', 'temp_c': 16.2, 'temp_f': 61.2, 'is_day': 0, 'condition': {'text': 'Partly cloudy', 'icon': '//cdn.weatherapi.com/weather/64x64/night/116.png', 'code': 1003}, 'wind_mph': 6.5, 'wind_kph': 10.4, 'wind_degree': 323, 'wind_dir': 'NW', 'pressure_mb': 1014.0, 'pressure_in': 30.4, 'precip_mm': 0.0, 'precip_in': 0.0, 'humidity': 45, 'cloud': 17, 'feelslike_c': 16.2, 'feelslike_f': 61.2, 'windchill_c': 16.2, 'windchill_f': 61.2, 'heatindex_c': 16.2, 'heatindex_f': 61.2, 'dewpoint_c': 4.3, 'dewpoint_f': 39.7, 'will_it_rain': 0, 'chance_of_rain': '0', 'will_it_snow': 0, 'chance_of_snow': '0', 'vis_km': 10.0, 'vis_miles': 6.0, 'gust_mph': 8.9, 'gust_kph': 14.4, 'uv': 1.0}, {'time_epoch': 1623920400, 'time': '2021-06-17 05:00', 'temp_c': 16.2, 'temp_f': 61.2, 'is_day': 0, 'condition': {'text': 'Partly cloudy', 'icon': '//cdn.weatherapi.com/weather/64x64/night/116.png', 'code': 1003}, 'wind_mph': 6.0, 'wind_kph': 9.7, 'wind_degree': 326, 'wind_dir': 'NNW', 'pressure_mb': 1014.0, 'pressure_in': 30.4, 'precip_mm': 0.0, 'precip_in': 0.0, 'humidity': 46, 'cloud': 10, 'feelslike_c': 16.2, 'feelslike_f': 61.2, 'windchill_c': 16.2, 'windchill_f': 61.2, 'heatindex_c': 16.2, 'heatindex_f': 61.2, 'dewpoint_c': 4.5, 'dewpoint_f': 40.1, 'will_it_rain': 0, 'chance_of_rain': '0', 'will_it_snow': 0, 'chance_of_snow': '0', 'vis_km': 10.0, 'vis_miles': 6.0, 'gust_mph': 8.5, 'gust_kph': 13.7, 'uv': 1.0}, {'time_epoch': 1623924000, 'time': '2021-06-17 06:00', 'temp_c': 17.2, 'temp_f': 63.0, 'is_day': 1, 'condition': {'text': 'Sunny', 'icon': '//cdn.weatherapi.com/weather/64x64/day/113.png', 'code': 1000}, 'wind_mph': 6.5, 'wind_kph': 10.4, 'wind_degree': 325, 'wind_dir': 'NW', 'pressure_mb': 1015.0, 'pressure_in': 30.4, 'precip_mm': 0.0, 'precip_in': 0.0, 'humidity': 44, 'cloud': 7, 'feelslike_c': 17.2, 'feelslike_f': 63.0, 'windchill_c': 17.2, 'windchill_f': 63.0, 'heatindex_c': 17.2, 'heatindex_f': 63.0, 'dewpoint_c': 4.7, 'dewpoint_f': 40.5, 'will_it_rain': 0, 'chance_of_rain': '0', 'will_it_snow': 0, 'chance_of_snow': '0', 'vis_km': 10.0, 'vis_miles': 6.0, 'gust_mph': 8.5, 'gust_kph': 13.7, 'uv': 5.0}, {'time_epoch': 1623927600, 'time': '2021-06-17 07:00', 'temp_c': 18.2, 'temp_f': 64.8, 'is_day': 1, 'condition': {'text': 'Partly cloudy', 'icon': '//cdn.weatherapi.com/weather/64x64/day/116.png', 'code': 1003}, 'wind_mph': 6.7, 'wind_kph': 10.8, 'wind_degree': 324, 'wind_dir': 'NW', 'pressure_mb': 1015.0, 'pressure_in': 30.5, 'precip_mm': 0.0, 'precip_in': 0.0, 'humidity': 42, 'cloud': 3, 'feelslike_c': 18.2, 'feelslike_f': 64.8, 'windchill_c': 18.2, 'windchill_f': 64.8, 'heatindex_c': 18.2, 'heatindex_f': 64.8, 'dewpoint_c': 5.0, 'dewpoint_f': 41.0, 'will_it_rain': 0, 'chance_of_rain': '0', 'will_it_snow': 0, 'chance_of_snow': '0', 'vis_km': 10.0, 'vis_miles': 6.0, 'gust_mph': 8.3, 'gust_kph': 13.3, 'uv': 5.0}, {'time_epoch': 1623931200, 'time': '2021-06-17 08:00', 'temp_c': 19.2, 'temp_f': 66.6, 'is_day': 1, 'condition': {'text': 'Sunny', 'icon': '//cdn.weatherapi.com/weather/64x64/day/113.png', 'code': 1000}, 'wind_mph': 7.2, 'wind_kph': 11.5, 'wind_degree': 323, 'wind_dir': 'NW', 'pressure_mb': 1015.0, 'pressure_in': 30.5, 'precip_mm': 0.0, 'precip_in': 0.0, 'humidity': 40, 'cloud': 0, 'feelslike_c': 19.2, 'feelslike_f': 66.6, 'windchill_c': 19.2, 'windchill_f': 66.6, 'heatindex_c': 19.2, 'heatindex_f': 66.6, 'dewpoint_c': 5.2, 'dewpoint_f': 41.4, 'will_it_rain': 0, 'chance_of_rain': '0', 'will_it_snow': 0, 'chance_of_snow': '0', 'vis_km': 10.0, 'vis_miles': 6.0, 'gust_mph': 8.3, 'gust_kph': 13.3, 'uv': 5.0}, {'time_epoch': 1623934800, 'time': '2021-06-17 09:00', 'temp_c': 20.6, 'temp_f': 69.1, 'is_day': 1, 'condition': {'text': 'Partly cloudy', 'icon': '//cdn.weatherapi.com/weather/64x64/day/116.png', 'code': 1003}, 'wind_mph': 6.9, 'wind_kph': 11.2, 'wind_degree': 320, 'wind_dir': 'NW', 'pressure_mb': 1015.0, 'pressure_in': 30.5, 'precip_mm': 0.0, 'precip_in': 0.0, 'humidity': 35, 'cloud': 2, 'feelslike_c': 20.6, 'feelslike_f': 69.1, 'windchill_c': 20.6, 'windchill_f': 69.1, 'heatindex_c': 20.5, 'heatindex_f': 68.9, 'dewpoint_c': 4.1, 'dewpoint_f': 39.4, 'will_it_rain': 0, 'chance_of_rain': '0', 'will_it_snow': 0, 'chance_of_snow': '0', 'vis_km': 10.0, 'vis_miles': 6.0, 'gust_mph': 8.1, 'gust_kph': 13.0, 'uv': 6.0}, {'time_epoch': 1623938400, 'time': '2021-06-17 10:00', 'temp_c': 21.9, 'temp_f': 71.4, 'is_day': 1, 'condition': {'text': 'Sunny', 'icon': '//cdn.weatherapi.com/weather/64x64/day/113.png', 'code': 1000}, 'wind_mph': 6.7, 'wind_kph': 10.8, 'wind_degree': 316, 'wind_dir': 'NW', 'pressure_mb': 1015.0, 'pressure_in': 30.5, 'precip_mm': 0.0, 'precip_in': 0.0, 'humidity': 29, 'cloud': 4, 'feelslike_c': 21.9, 'feelslike_f': 71.4, 'windchill_c': 21.9, 'windchill_f': 71.4, 'heatindex_c': 21.9, 'heatindex_f': 71.4, 'dewpoint_c': 2.9, 'dewpoint_f': 37.2, 'will_it_rain': 0, 'chance_of_rain': '0', 'will_it_snow': 0, 'chance_of_snow': '0', 'vis_km': 10.0, 'vis_miles': 6.0, 'gust_mph': 7.6, 'gust_kph': 12.2, 'uv': 6.0}, {'time_epoch': 1623942000, 'time': '2021-06-17 11:00', 'temp_c': 23.3, 'temp_f': 73.9, 'is_day': 1, 'condition': {'text': 'Partly cloudy', 'icon': '//cdn.weatherapi.com/weather/64x64/day/116.png', 'code': 1003}, 'wind_mph': 6.5, 'wind_kph': 10.4, 'wind_degree': 313, 'wind_dir': 'NW', 'pressure_mb': 1015.0, 'pressure_in': 30.5, 'precip_mm': 0.0, 'precip_in': 0.0, 'humidity': 24, 'cloud': 5, 'feelslike_c': 23.2, 'feelslike_f': 73.8, 'windchill_c': 23.3, 'windchill_f': 73.9, 'heatindex_c': 23.2, 'heatindex_f': 73.8, 'dewpoint_c': 1.8, 'dewpoint_f': 35.2, 'will_it_rain': 0, 'chance_of_rain': '0', 'will_it_snow': 0, 'chance_of_snow': '0', 'vis_km': 10.0, 'vis_miles': 6.0, 'gust_mph': 7.4, 'gust_kph': 11.9, 'uv': 6.0}, {'time_epoch': 1623945600, 'time': '2021-06-17 12:00', 'temp_c': 24.4, 'temp_f': 75.9, 'is_day': 1, 'condition': {'text': 'Partly cloudy', 'icon': '//cdn.weatherapi.com/weather/64x64/day/116.png', 'code': 1003}, 'wind_mph': 6.5, 'wind_kph': 10.4, 'wind_degree': 311, 'wind_dir': 'NW', 'pressure_mb': 1015.0, 'pressure_in': 30.4, 'precip_mm': 0.0, 'precip_in': 0.0, 'humidity': 24, 'cloud': 5, 'feelslike_c': 23.8, 'feelslike_f': 74.8, 'windchill_c': 24.4, 'windchill_f': 75.9, 'heatindex_c': 23.8, 'heatindex_f': 74.8, 'dewpoint_c': 2.2, 'dewpoint_f': 36.0, 'will_it_rain': 0, 'chance_of_rain': '0', 'will_it_snow': 0, 'chance_of_snow': '0', 'vis_km': 10.0, 'vis_miles': 6.0, 'gust_mph': 7.6, 'gust_kph': 12.2, 'uv': 6.0}, {'time_epoch': 1623949200, 'time': '2021-06-17 13:00', 'temp_c': 25.4, 'temp_f': 77.7, 'is_day': 1, 'condition': {'text': 'Partly cloudy', 'icon': '//cdn.weatherapi.com/weather/64x64/day/116.png', 'code': 1003}, 'wind_mph': 6.7, 'wind_kph': 10.8, 'wind_degree': 310, 'wind_dir': 'NW', 'pressure_mb': 1015.0, 'pressure_in': 30.4, 'precip_mm': 0.0, 'precip_in': 0.0, 'humidity': 23, 'cloud': 4, 'feelslike_c': 24.4, 'feelslike_f': 75.9, 'windchill_c': 25.4, 'windchill_f': 77.7, 'heatindex_c': 24.4, 'heatindex_f': 75.9, 'dewpoint_c': 2.6, 'dewpoint_f': 36.7, 'will_it_rain': 0, 'chance_of_rain': '0', 'will_it_snow': 0, 'chance_of_snow': '0', 'vis_km': 10.0, 'vis_miles': 6.0, 'gust_mph': 7.6, 'gust_kph': 12.2, 'uv': 7.0}, {'time_epoch': 1623952800, 'time': '2021-06-17 14:00', 'temp_c': 26.5, 'temp_f': 79.7, 'is_day': 1, 'condition': {'text': 'Partly cloudy', 'icon': '//cdn.weatherapi.com/weather/64x64/day/116.png', 'code': 1003}, 'wind_mph': 6.7, 'wind_kph': 10.8, 'wind_degree': 309, 'wind_dir': 'NW', 'pressure_mb': 1014.0, 'pressure_in': 30.4, 'precip_mm': 0.0, 'precip_in': 0.0, 'humidity': 22, 'cloud': 4, 'feelslike_c': 25.0, 'feelslike_f': 77.0, 'windchill_c': 26.5, 'windchill_f': 79.7, 'heatindex_c': 25.0, 'heatindex_f': 77.0, 'dewpoint_c': 3.0, 'dewpoint_f': 37.4, 'will_it_rain': 0, 'chance_of_rain': '0', 'will_it_snow': 0, 'chance_of_snow': '0', 'vis_km': 10.0, 'vis_miles': 6.0, 'gust_mph': 7.8, 'gust_kph': 12.6, 'uv': 7.0}, {'time_epoch': 1623956400, 'time': '2021-06-17 15:00', 'temp_c': 26.9, 'temp_f': 80.4, 'is_day': 1, 'condition': {'text': 'Partly cloudy', 'icon': '//cdn.weatherapi.com/weather/64x64/day/116.png', 'code': 1003}, 'wind_mph': 6.5, 'wind_kph': 10.4, 'wind_degree': 312, 'wind_dir': 'NW', 'pressure_mb': 1014.0, 'pressure_in': 30.4, 'precip_mm': 0.0, 'precip_in': 0.0, 'humidity': 22, 'cloud': 4, 'feelslike_c': 25.3, 'feelslike_f': 77.5, 'windchill_c': 26.9, 'windchill_f': 80.4, 'heatindex_c': 25.3, 'heatindex_f': 77.5, 'dewpoint_c': 3.3, 'dewpoint_f': 37.9, 'will_it_rain': 0, 'chance_of_rain': '0', 'will_it_snow': 0, 'chance_of_snow': '0', 'vis_km': 10.0, 'vis_miles': 6.0, 'gust_mph': 7.6, 'gust_kph': 12.2, 'uv': 7.0}, {'time_epoch': 1623960000, 'time': '2021-06-17 16:00', 'temp_c': 27.2, 'temp_f': 81.0, 'is_day': 1, 'condition': {'text': 'Partly cloudy', 'icon': '//cdn.weatherapi.com/weather/64x64/day/116.png', 'code': 1003}, 'wind_mph': 6.5, 'wind_kph': 10.4, 'wind_degree': 315, 'wind_dir': 'NW', 'pressure_mb': 1014.0, 'pressure_in': 30.4, 'precip_mm': 0.0, 'precip_in': 0.0, 'humidity': 22, 'cloud': 4, 'feelslike_c': 25.6, 'feelslike_f': 78.1, 'windchill_c': 27.2, 'windchill_f': 81.0, 'heatindex_c': 25.6, 'heatindex_f': 78.1, 'dewpoint_c': 3.7, 'dewpoint_f': 38.7, 'will_it_rain': 0, 'chance_of_rain': '0', 'will_it_snow': 0, 'chance_of_snow': '0', 'vis_km': 10.0, 'vis_miles': 6.0, 'gust_mph': 7.4, 'gust_kph': 11.9, 'uv': 7.0}, {'time_epoch': 1623963600, 'time': '2021-06-17 17:00', 'temp_c': 27.6, 'temp_f': 81.7, 'is_day': 1, 'condition': {'text': 'Partly cloudy', 'icon': '//cdn.weatherapi.com/weather/64x64/day/116.png', 'code': 1003}, 'wind_mph': 6.3, 'wind_kph': 10.1, 'wind_degree': 318, 'wind_dir': 'NW', 'pressure_mb': 1014.0, 'pressure_in': 30.4, 'precip_mm': 0.0, 'precip_in': 0.0, 'humidity': 22, 'cloud': 4, 'feelslike_c': 25.9, 'feelslike_f': 78.6, 'windchill_c': 27.6, 'windchill_f': 81.7, 'heatindex_c': 25.9, 'heatindex_f': 78.6, 'dewpoint_c': 4.0, 'dewpoint_f': 39.2, 'will_it_rain': 0, 'chance_of_rain': '0', 'will_it_snow': 0, 'chance_of_snow': '0', 'vis_km': 10.0, 'vis_miles': 6.0, 'gust_mph': 7.2, 'gust_kph': 11.5, 'uv': 7.0}, {'time_epoch': 1623967200, 'time': '2021-06-17 18:00', 'temp_c': 27.0, 'temp_f': 80.6, 'is_day': 1, 'condition': {'text': 'Partly cloudy', 'icon': '//cdn.weatherapi.com/weather/64x64/day/116.png', 'code': 1003}, 'wind_mph': 6.0, 'wind_kph': 9.7, 'wind_degree': 325, 'wind_dir': 'NW', 'pressure_mb': 1014.0, 'pressure_in': 30.4, 'precip_mm': 0.0, 'precip_in': 0.0, 'humidity': 24, 'cloud': 4, 'feelslike_c': 25.6, 'feelslike_f': 78.1, 'windchill_c': 27.0, 'windchill_f': 80.6, 'heatindex_c': 25.6, 'heatindex_f': 78.1, 'dewpoint_c': 4.7, 'dewpoint_f': 40.5, 'will_it_rain': 0, 'chance_of_rain': '0', 'will_it_snow': 0, 'chance_of_snow': '0', 'vis_km': 10.0, 'vis_miles': 6.0, 'gust_mph': 6.9, 'gust_kph': 11.2, 'uv': 7.0}, {'time_epoch': 1623970800, 'time': '2021-06-17 19:00', 'temp_c': 26.4, 'temp_f': 79.5, 'is_day': 1, 'condition': {'text': 'Partly cloudy', 'icon': '//cdn.weatherapi.com/weather/64x64/day/116.png', 'code': 1003}, 'wind_mph': 5.6, 'wind_kph': 9.0, 'wind_degree': 333, 'wind_dir': 'NNW', 'pressure_mb': 1014.0, 'pressure_in': 30.4, 'precip_mm': 0.0, 'precip_in': 0.0, 'humidity': 26, 'cloud': 5, 'feelslike_c': 25.4, 'feelslike_f': 77.7, 'windchill_c': 26.4, 'windchill_f': 79.5, 'heatindex_c': 25.4, 'heatindex_f': 77.7, 'dewpoint_c': 5.4, 'dewpoint_f': 41.7, 'will_it_rain': 0, 'chance_of_rain': '0', 'will_it_snow': 0, 'chance_of_snow': '0', 'vis_km': 10.0, 'vis_miles': 6.0, 'gust_mph': 6.5, 'gust_kph': 10.4, 'uv': 7.0}, {'time_epoch': 1623974400, 'time': '2021-06-17 20:00', 'temp_c': 25.8, 'temp_f': 78.4, 'is_day': 1, 'condition': {'text': 'Partly cloudy', 'icon': '//cdn.weatherapi.com/weather/64x64/day/116.png', 'code': 1003}, 'wind_mph': 5.4, 'wind_kph': 8.6, 'wind_degree': 341, 'wind_dir': 'NNW', 'pressure_mb': 1014.0, 'pressure_in': 30.4, 'precip_mm': 0.0, 'precip_in': 0.0, 'humidity': 28, 'cloud': 5, 'feelslike_c': 25.1, 'feelslike_f': 77.2, 'windchill_c': 25.8, 'windchill_f': 78.4, 'heatindex_c': 25.1, 'heatindex_f': 77.2, 'dewpoint_c': 6.1, 'dewpoint_f': 43.0, 'will_it_rain': 0, 'chance_of_rain': '0', 'will_it_snow': 0, 'chance_of_snow': '0', 'vis_km': 10.0, 'vis_miles': 6.0, 'gust_mph': 6.3, 'gust_kph': 10.1, 'uv': 7.0}, {'time_epoch': 1623978000, 'time': '2021-06-17 21:00', 'temp_c': 24.6, 'temp_f': 76.3, 'is_day': 0, 'condition': {'text': 'Partly cloudy', 'icon': '//cdn.weatherapi.com/weather/64x64/night/116.png', 'code': 1003}, 'wind_mph': 5.1, 'wind_kph': 8.3, 'wind_degree': 340, 'wind_dir': 'NNW', 'pressure_mb': 1015.0, 'pressure_in': 30.4, 'precip_mm': 0.0, 'precip_in': 0.0, 'humidity': 34, 'cloud': 5, 'feelslike_c': 24.8, 'feelslike_f': 76.6, 'windchill_c': 24.6, 'windchill_f': 76.3, 'heatindex_c': 24.8, 'heatindex_f': 76.6, 'dewpoint_c': 7.2, 'dewpoint_f': 45.0, 'will_it_rain': 0, 'chance_of_rain': '0', 'will_it_snow': 0, 'chance_of_snow': '0', 'vis_km': 10.0, 'vis_miles': 6.0, 'gust_mph': 6.3, 'gust_kph': 10.1, 'uv': 1.0}, {'time_epoch': 1623981600, 'time': '2021-06-17 22:00', 'temp_c': 23.3, 'temp_f': 73.9, 'is_day': 0, 'condition': {'text': 'Partly cloudy', 'icon': '//cdn.weatherapi.com/weather/64x64/night/116.png', 'code': 1003}, 'wind_mph': 5.1, 'wind_kph': 8.3, 'wind_degree': 339, 'wind_dir': 'NNW', 'pressure_mb': 1015.0, 'pressure_in': 30.5, 'precip_mm': 0.0, 'precip_in': 0.0, 'humidity': 39, 'cloud': 5, 'feelslike_c': 24.6, 'feelslike_f': 76.3, 'windchill_c': 23.3, 'windchill_f': 73.9, 'heatindex_c': 24.6, 'heatindex_f': 76.3, 'dewpoint_c': 8.4, 'dewpoint_f': 47.1, 'will_it_rain': 0, 'chance_of_rain': '0', 'will_it_snow': 0, 'chance_of_snow': '0', 'vis_km': 10.0, 'vis_miles': 6.0, 'gust_mph': 6.0, 'gust_kph': 9.7, 'uv': 1.0}, {'time_epoch': 1623985200, 'time': '2021-06-17 23:00', 'temp_c': 22.1, 'temp_f': 71.8, 'is_day': 0, 'condition': {'text': 'Partly cloudy', 'icon': '//cdn.weatherapi.com/weather/64x64/night/116.png', 'code': 1003}, 'wind_mph': 4.9, 'wind_kph': 7.9, 'wind_degree': 338, 'wind_dir': 'NNW', 'pressure_mb': 1016.0, 'pressure_in': 30.5, 'precip_mm': 0.0, 'precip_in': 0.0, 'humidity': 45, 'cloud': 4, 'feelslike_c': 24.3, 'feelslike_f': 75.7, 'windchill_c': 22.1, 'windchill_f': 71.8, 'heatindex_c': 24.3, 'heatindex_f': 75.7, 'dewpoint_c': 9.5, 'dewpoint_f': 49.1, 'will_it_rain': 0, 'chance_of_rain': '0', 'will_it_snow': 0, 'chance_of_snow': '0', 'vis_km': 10.0, 'vis_miles': 6.0, 'gust_mph': 6.0, 'gust_kph': 9.7, 'uv': 1.0}]}]\n"
     ]
    }
   ],
   "source": [
    "print(nyc_temp['forecast']['forecastday'])"
   ]
  },
  {
   "cell_type": "code",
   "execution_count": 102,
   "metadata": {},
   "outputs": [
    {
     "name": "stdout",
     "output_type": "stream",
     "text": [
      "{'maxtemp_c': 27.6, 'maxtemp_f': 81.7, 'mintemp_c': 16.1, 'mintemp_f': 61.0, 'avgtemp_c': 22.1, 'avgtemp_f': 71.8, 'maxwind_mph': 7.6, 'maxwind_kph': 12.2, 'totalprecip_mm': 0.0, 'totalprecip_in': 0.0, 'avgvis_km': 10.0, 'avgvis_miles': 6.0, 'avghumidity': 34.0, 'daily_will_it_rain': 0, 'daily_chance_of_rain': '0', 'daily_will_it_snow': 0, 'daily_chance_of_snow': '0', 'condition': {'text': 'Partly cloudy', 'icon': '//cdn.weatherapi.com/weather/64x64/day/116.png', 'code': 1003}, 'uv': 7.0}\n"
     ]
    }
   ],
   "source": [
    "print(nyc_temp['forecast']['forecastday'][0]['day'])"
   ]
  },
  {
   "cell_type": "code",
   "execution_count": 104,
   "metadata": {},
   "outputs": [],
   "source": [
    "max_temp = nyc_temp['forecast']['forecastday'][0]['day']['maxtemp_f']"
   ]
  },
  {
   "cell_type": "code",
   "execution_count": 105,
   "metadata": {},
   "outputs": [],
   "source": [
    "min_temp = nyc_temp['forecast']['forecastday'][0]['day']['mintemp_f']"
   ]
  },
  {
   "cell_type": "code",
   "execution_count": 106,
   "metadata": {},
   "outputs": [],
   "source": [
    "temp_diff = round(max_temp) - round(min_temp)"
   ]
  },
  {
   "cell_type": "code",
   "execution_count": 109,
   "metadata": {},
   "outputs": [
    {
     "name": "stdout",
     "output_type": "stream",
     "text": [
      "There is a difference of 21 between New Yorks high and low temps today\n"
     ]
    }
   ],
   "source": [
    "print(\"There is a difference of\",temp_diff,\"between New Yorks high and low temps today\")"
   ]
  },
  {
   "cell_type": "markdown",
   "metadata": {
    "collapsed": true
   },
   "source": [
    "## 4.5) How can you avoid the \"oh no I don't have the data any more because I made another request\" problem in the future?\n",
    "\n",
    "What variable(s) do you have to rename, and what would you rename them?"
   ]
  },
  {
   "cell_type": "code",
   "execution_count": null,
   "metadata": {},
   "outputs": [],
   "source": [
    "you need to relink and rename the url"
   ]
  },
  {
   "cell_type": "code",
   "execution_count": null,
   "metadata": {},
   "outputs": [],
   "source": []
  },
  {
   "cell_type": "markdown",
   "metadata": {},
   "source": [
    "## 5) Go through the daily forecasts, printing out the next week's worth of predictions.\n",
    "\n",
    "I'd like to know the **high temperature** for each day, and whether it's **hot, warm, or cold** (based on what temperatures you think are hot, warm or cold).\n",
    "\n",
    "- *Tip: You'll need to use an `if` statement to say whether it is hot, warm or cold.*"
   ]
  },
  {
   "cell_type": "code",
   "execution_count": 5,
   "metadata": {},
   "outputs": [],
   "source": [
    "import requests"
   ]
  },
  {
   "cell_type": "code",
   "execution_count": 6,
   "metadata": {},
   "outputs": [],
   "source": [
    "url_two = requests.get(\"http://api.weatherapi.com/v1/forecast.json?key=f8bcc9708bab402f80313027211706&q=new%20york&days=7&aqi=no&alerts=no\")"
   ]
  },
  {
   "cell_type": "code",
   "execution_count": 7,
   "metadata": {},
   "outputs": [],
   "source": [
    "nyc_weather= url_two.json()"
   ]
  },
  {
   "cell_type": "code",
   "execution_count": 50,
   "metadata": {},
   "outputs": [
    {
     "name": "stdout",
     "output_type": "stream",
     "text": [
      "85.6\n"
     ]
    }
   ],
   "source": [
    "print(nyc_weather['forecast']['forecastday'][0]['day']['maxtemp_f'])"
   ]
  },
  {
   "cell_type": "code",
   "execution_count": 60,
   "metadata": {},
   "outputs": [
    {
     "ename": "KeyError",
     "evalue": "'date'",
     "output_type": "error",
     "traceback": [
      "\u001b[0;31m---------------------------------------------------------------------------\u001b[0m",
      "\u001b[0;31mKeyError\u001b[0m                                  Traceback (most recent call last)",
      "\u001b[0;32m<ipython-input-60-e8ae057c9384>\u001b[0m in \u001b[0;36m<module>\u001b[0;34m\u001b[0m\n\u001b[1;32m      1\u001b[0m \u001b[0;32mfor\u001b[0m \u001b[0mtemp\u001b[0m \u001b[0;32min\u001b[0m \u001b[0mnyc_weather\u001b[0m\u001b[0;34m[\u001b[0m\u001b[0;34m'forecast'\u001b[0m\u001b[0;34m]\u001b[0m\u001b[0;34m[\u001b[0m\u001b[0;34m'forecastday'\u001b[0m\u001b[0;34m]\u001b[0m\u001b[0;34m:\u001b[0m\u001b[0;34m\u001b[0m\u001b[0;34m\u001b[0m\u001b[0m\n\u001b[0;32m----> 2\u001b[0;31m     \u001b[0mprint\u001b[0m\u001b[0;34m(\u001b[0m\u001b[0mtemp\u001b[0m\u001b[0;34m[\u001b[0m\u001b[0;34m'day'\u001b[0m\u001b[0;34m]\u001b[0m\u001b[0;34m[\u001b[0m\u001b[0;34m'date'\u001b[0m\u001b[0;34m]\u001b[0m\u001b[0;34m[\u001b[0m\u001b[0;34m'maxtemp_f'\u001b[0m\u001b[0;34m]\u001b[0m\u001b[0;34m)\u001b[0m\u001b[0;34m\u001b[0m\u001b[0;34m\u001b[0m\u001b[0m\n\u001b[0m\u001b[1;32m      3\u001b[0m \u001b[0;34m\u001b[0m\u001b[0m\n",
      "\u001b[0;31mKeyError\u001b[0m: 'date'"
     ]
    }
   ],
   "source": [
    "for temp in nyc_weather['forecast']['forecastday']:\n",
    "    print(temp['day']['maxtemp_f'])\n",
    "                        "
   ]
  },
  {
   "cell_type": "code",
   "execution_count": null,
   "metadata": {},
   "outputs": [],
   "source": []
  },
  {
   "cell_type": "code",
   "execution_count": null,
   "metadata": {},
   "outputs": [],
   "source": []
  },
  {
   "cell_type": "markdown",
   "metadata": {},
   "source": [
    "# 6) What will be the hottest day in the next week? What is the high temperature on that day?"
   ]
  },
  {
   "cell_type": "code",
   "execution_count": 66,
   "metadata": {},
   "outputs": [
    {
     "name": "stdout",
     "output_type": "stream",
     "text": [
      "[{'date': '2021-06-20', 'date_epoch': 1624147200, 'day': {'maxtemp_c': 29.8, 'maxtemp_f': 85.6, 'mintemp_c': 20.8, 'mintemp_f': 69.4, 'avgtemp_c': 25.2, 'avgtemp_f': 77.3, 'maxwind_mph': 12.3, 'maxwind_kph': 19.8, 'totalprecip_mm': 3.0, 'totalprecip_in': 0.12, 'avgvis_km': 9.9, 'avgvis_miles': 6.0, 'avghumidity': 66.0, 'daily_will_it_rain': 1, 'daily_chance_of_rain': '83', 'daily_will_it_snow': 0, 'daily_chance_of_snow': '0', 'condition': {'text': 'Patchy rain possible', 'icon': '//cdn.weatherapi.com/weather/64x64/day/176.png', 'code': 1063}, 'uv': 8.0}, 'astro': {'sunrise': '05:25 AM', 'sunset': '08:31 PM', 'moonrise': '03:50 PM', 'moonset': '02:21 AM', 'moon_phase': 'Full Moon', 'moon_illumination': '76'}, 'hour': [{'time_epoch': 1624161600, 'time': '2021-06-20 00:00', 'temp_c': 22.7, 'temp_f': 72.9, 'is_day': 0, 'condition': {'text': 'Light rain shower', 'icon': '//cdn.weatherapi.com/weather/64x64/night/353.png', 'code': 1240}, 'wind_mph': 7.8, 'wind_kph': 12.6, 'wind_degree': 278, 'wind_dir': 'W', 'pressure_mb': 1008.0, 'pressure_in': 30.2, 'precip_mm': 1.3, 'precip_in': 0.05, 'humidity': 80, 'cloud': 85, 'feelslike_c': 24.0, 'feelslike_f': 75.2, 'windchill_c': 22.7, 'windchill_f': 72.9, 'heatindex_c': 24.0, 'heatindex_f': 75.2, 'dewpoint_c': 19.0, 'dewpoint_f': 66.2, 'will_it_rain': 0, 'chance_of_rain': '70', 'will_it_snow': 0, 'chance_of_snow': '0', 'vis_km': 9.3, 'vis_miles': 5.0, 'gust_mph': 12.1, 'gust_kph': 19.4, 'uv': 1.0}, {'time_epoch': 1624165200, 'time': '2021-06-20 01:00', 'temp_c': 21.8, 'temp_f': 71.2, 'is_day': 0, 'condition': {'text': 'Patchy rain possible', 'icon': '//cdn.weatherapi.com/weather/64x64/night/176.png', 'code': 1063}, 'wind_mph': 6.9, 'wind_kph': 11.2, 'wind_degree': 316, 'wind_dir': 'NW', 'pressure_mb': 1008.0, 'pressure_in': 30.2, 'precip_mm': 1.5, 'precip_in': 0.06, 'humidity': 79, 'cloud': 88, 'feelslike_c': 21.8, 'feelslike_f': 71.2, 'windchill_c': 21.8, 'windchill_f': 71.2, 'heatindex_c': 22.4, 'heatindex_f': 72.3, 'dewpoint_c': 18.1, 'dewpoint_f': 64.6, 'will_it_rain': 1, 'chance_of_rain': '73', 'will_it_snow': 0, 'chance_of_snow': '0', 'vis_km': 9.7, 'vis_miles': 6.0, 'gust_mph': 10.3, 'gust_kph': 16.6, 'uv': 1.0}, {'time_epoch': 1624168800, 'time': '2021-06-20 02:00', 'temp_c': 20.8, 'temp_f': 69.4, 'is_day': 0, 'condition': {'text': 'Light rain shower', 'icon': '//cdn.weatherapi.com/weather/64x64/night/353.png', 'code': 1240}, 'wind_mph': 5.8, 'wind_kph': 9.4, 'wind_degree': 353, 'wind_dir': 'N', 'pressure_mb': 1008.0, 'pressure_in': 30.2, 'precip_mm': 1.7, 'precip_in': 0.07, 'humidity': 79, 'cloud': 92, 'feelslike_c': 20.8, 'feelslike_f': 69.4, 'windchill_c': 20.8, 'windchill_f': 69.4, 'heatindex_c': 20.8, 'heatindex_f': 69.4, 'dewpoint_c': 17.1, 'dewpoint_f': 62.8, 'will_it_rain': 1, 'chance_of_rain': '77', 'will_it_snow': 0, 'chance_of_snow': '0', 'vis_km': 10.0, 'vis_miles': 6.0, 'gust_mph': 8.3, 'gust_kph': 13.3, 'uv': 1.0}, {'time_epoch': 1624172400, 'time': '2021-06-20 03:00', 'temp_c': 20.8, 'temp_f': 69.4, 'is_day': 0, 'condition': {'text': 'Partly cloudy', 'icon': '//cdn.weatherapi.com/weather/64x64/night/116.png', 'code': 1003}, 'wind_mph': 4.9, 'wind_kph': 7.9, 'wind_degree': 332, 'wind_dir': 'NNW', 'pressure_mb': 1008.0, 'pressure_in': 30.2, 'precip_mm': 1.1, 'precip_in': 0.04, 'humidity': 80, 'cloud': 66, 'feelslike_c': 20.8, 'feelslike_f': 69.4, 'windchill_c': 20.8, 'windchill_f': 69.4, 'heatindex_c': 20.8, 'heatindex_f': 69.4, 'dewpoint_c': 17.3, 'dewpoint_f': 63.1, 'will_it_rain': 0, 'chance_of_rain': '51', 'will_it_snow': 0, 'chance_of_snow': '0', 'vis_km': 10.0, 'vis_miles': 6.0, 'gust_mph': 6.9, 'gust_kph': 11.2, 'uv': 1.0}, {'time_epoch': 1624176000, 'time': '2021-06-20 04:00', 'temp_c': 20.9, 'temp_f': 69.6, 'is_day': 0, 'condition': {'text': 'Light rain shower', 'icon': '//cdn.weatherapi.com/weather/64x64/night/353.png', 'code': 1240}, 'wind_mph': 4.3, 'wind_kph': 6.8, 'wind_degree': 310, 'wind_dir': 'NW', 'pressure_mb': 1008.0, 'pressure_in': 30.2, 'precip_mm': 0.6, 'precip_in': 0.02, 'humidity': 81, 'cloud': 39, 'feelslike_c': 20.9, 'feelslike_f': 69.6, 'windchill_c': 20.9, 'windchill_f': 69.6, 'heatindex_c': 20.9, 'heatindex_f': 69.6, 'dewpoint_c': 17.4, 'dewpoint_f': 63.3, 'will_it_rain': 0, 'chance_of_rain': '26', 'will_it_snow': 0, 'chance_of_snow': '0', 'vis_km': 10.0, 'vis_miles': 6.0, 'gust_mph': 5.4, 'gust_kph': 8.6, 'uv': 1.0}, {'time_epoch': 1624179600, 'time': '2021-06-20 05:00', 'temp_c': 20.9, 'temp_f': 69.6, 'is_day': 0, 'condition': {'text': 'Partly cloudy', 'icon': '//cdn.weatherapi.com/weather/64x64/night/116.png', 'code': 1003}, 'wind_mph': 3.4, 'wind_kph': 5.4, 'wind_degree': 288, 'wind_dir': 'WNW', 'pressure_mb': 1008.0, 'pressure_in': 30.2, 'precip_mm': 0.0, 'precip_in': 0.0, 'humidity': 82, 'cloud': 13, 'feelslike_c': 20.9, 'feelslike_f': 69.6, 'windchill_c': 20.9, 'windchill_f': 69.6, 'heatindex_c': 20.9, 'heatindex_f': 69.6, 'dewpoint_c': 17.6, 'dewpoint_f': 63.7, 'will_it_rain': 0, 'chance_of_rain': '0', 'will_it_snow': 0, 'chance_of_snow': '0', 'vis_km': 10.0, 'vis_miles': 6.0, 'gust_mph': 4.0, 'gust_kph': 6.5, 'uv': 1.0}, {'time_epoch': 1624183200, 'time': '2021-06-20 06:00', 'temp_c': 21.5, 'temp_f': 70.7, 'is_day': 1, 'condition': {'text': 'Partly cloudy', 'icon': '//cdn.weatherapi.com/weather/64x64/day/116.png', 'code': 1003}, 'wind_mph': 3.6, 'wind_kph': 5.8, 'wind_degree': 299, 'wind_dir': 'WNW', 'pressure_mb': 1009.0, 'pressure_in': 30.3, 'precip_mm': 0.0, 'precip_in': 0.0, 'humidity': 77, 'cloud': 10, 'feelslike_c': 21.5, 'feelslike_f': 70.7, 'windchill_c': 21.5, 'windchill_f': 70.7, 'heatindex_c': 22.2, 'heatindex_f': 72.0, 'dewpoint_c': 17.2, 'dewpoint_f': 63.0, 'will_it_rain': 0, 'chance_of_rain': '0', 'will_it_snow': 0, 'chance_of_snow': '0', 'vis_km': 10.0, 'vis_miles': 6.0, 'gust_mph': 4.3, 'gust_kph': 6.8, 'uv': 6.0}, {'time_epoch': 1624186800, 'time': '2021-06-20 07:00', 'temp_c': 22.0, 'temp_f': 71.6, 'is_day': 1, 'condition': {'text': 'Partly cloudy', 'icon': '//cdn.weatherapi.com/weather/64x64/day/116.png', 'code': 1003}, 'wind_mph': 3.6, 'wind_kph': 5.8, 'wind_degree': 310, 'wind_dir': 'NW', 'pressure_mb': 1009.0, 'pressure_in': 30.3, 'precip_mm': 0.0, 'precip_in': 0.0, 'humidity': 72, 'cloud': 8, 'feelslike_c': 23.5, 'feelslike_f': 74.3, 'windchill_c': 22.0, 'windchill_f': 71.6, 'heatindex_c': 23.5, 'heatindex_f': 74.3, 'dewpoint_c': 16.7, 'dewpoint_f': 62.1, 'will_it_rain': 0, 'chance_of_rain': '0', 'will_it_snow': 0, 'chance_of_snow': '0', 'vis_km': 10.0, 'vis_miles': 6.0, 'gust_mph': 4.3, 'gust_kph': 6.8, 'uv': 6.0}, {'time_epoch': 1624190400, 'time': '2021-06-20 08:00', 'temp_c': 22.6, 'temp_f': 72.7, 'is_day': 1, 'condition': {'text': 'Partly cloudy', 'icon': '//cdn.weatherapi.com/weather/64x64/day/116.png', 'code': 1003}, 'wind_mph': 3.8, 'wind_kph': 6.1, 'wind_degree': 321, 'wind_dir': 'NW', 'pressure_mb': 1009.0, 'pressure_in': 30.3, 'precip_mm': 0.0, 'precip_in': 0.0, 'humidity': 68, 'cloud': 6, 'feelslike_c': 24.8, 'feelslike_f': 76.6, 'windchill_c': 22.6, 'windchill_f': 72.7, 'heatindex_c': 24.8, 'heatindex_f': 76.6, 'dewpoint_c': 16.3, 'dewpoint_f': 61.3, 'will_it_rain': 0, 'chance_of_rain': '0', 'will_it_snow': 0, 'chance_of_snow': '0', 'vis_km': 10.0, 'vis_miles': 6.0, 'gust_mph': 4.5, 'gust_kph': 7.2, 'uv': 6.0}, {'time_epoch': 1624194000, 'time': '2021-06-20 09:00', 'temp_c': 24.2, 'temp_f': 75.6, 'is_day': 1, 'condition': {'text': 'Partly cloudy', 'icon': '//cdn.weatherapi.com/weather/64x64/day/116.png', 'code': 1003}, 'wind_mph': 4.0, 'wind_kph': 6.5, 'wind_degree': 288, 'wind_dir': 'WNW', 'pressure_mb': 1009.0, 'pressure_in': 30.3, 'precip_mm': 0.0, 'precip_in': 0.0, 'humidity': 61, 'cloud': 6, 'feelslike_c': 25.8, 'feelslike_f': 78.4, 'windchill_c': 24.2, 'windchill_f': 75.6, 'heatindex_c': 25.8, 'heatindex_f': 78.4, 'dewpoint_c': 16.0, 'dewpoint_f': 60.8, 'will_it_rain': 0, 'chance_of_rain': '0', 'will_it_snow': 0, 'chance_of_snow': '0', 'vis_km': 10.0, 'vis_miles': 6.0, 'gust_mph': 4.7, 'gust_kph': 7.6, 'uv': 6.0}, {'time_epoch': 1624197600, 'time': '2021-06-20 10:00', 'temp_c': 25.8, 'temp_f': 78.4, 'is_day': 1, 'condition': {'text': 'Partly cloudy', 'icon': '//cdn.weatherapi.com/weather/64x64/day/116.png', 'code': 1003}, 'wind_mph': 4.5, 'wind_kph': 7.2, 'wind_degree': 255, 'wind_dir': 'WSW', 'pressure_mb': 1010.0, 'pressure_in': 30.3, 'precip_mm': 0.0, 'precip_in': 0.0, 'humidity': 55, 'cloud': 5, 'feelslike_c': 26.9, 'feelslike_f': 80.4, 'windchill_c': 25.8, 'windchill_f': 78.4, 'heatindex_c': 26.9, 'heatindex_f': 80.4, 'dewpoint_c': 15.8, 'dewpoint_f': 60.4, 'will_it_rain': 0, 'chance_of_rain': '0', 'will_it_snow': 0, 'chance_of_snow': '0', 'vis_km': 10.0, 'vis_miles': 6.0, 'gust_mph': 5.1, 'gust_kph': 8.3, 'uv': 7.0}, {'time_epoch': 1624201200, 'time': '2021-06-20 11:00', 'temp_c': 27.4, 'temp_f': 81.3, 'is_day': 1, 'condition': {'text': 'Partly cloudy', 'icon': '//cdn.weatherapi.com/weather/64x64/day/116.png', 'code': 1003}, 'wind_mph': 4.7, 'wind_kph': 7.6, 'wind_degree': 222, 'wind_dir': 'SW', 'pressure_mb': 1010.0, 'pressure_in': 30.3, 'precip_mm': 0.0, 'precip_in': 0.0, 'humidity': 48, 'cloud': 5, 'feelslike_c': 27.9, 'feelslike_f': 82.2, 'windchill_c': 27.4, 'windchill_f': 81.3, 'heatindex_c': 27.9, 'heatindex_f': 82.2, 'dewpoint_c': 15.5, 'dewpoint_f': 59.9, 'will_it_rain': 0, 'chance_of_rain': '0', 'will_it_snow': 0, 'chance_of_snow': '0', 'vis_km': 10.0, 'vis_miles': 6.0, 'gust_mph': 5.4, 'gust_kph': 8.6, 'uv': 7.0}, {'time_epoch': 1624204800, 'time': '2021-06-20 12:00', 'temp_c': 28.2, 'temp_f': 82.8, 'is_day': 1, 'condition': {'text': 'Cloudy', 'icon': '//cdn.weatherapi.com/weather/64x64/day/119.png', 'code': 1006}, 'wind_mph': 6.3, 'wind_kph': 10.1, 'wind_degree': 214, 'wind_dir': 'SW', 'pressure_mb': 1009.0, 'pressure_in': 30.3, 'precip_mm': 0.0, 'precip_in': 0.0, 'humidity': 47, 'cloud': 25, 'feelslike_c': 28.7, 'feelslike_f': 83.7, 'windchill_c': 28.2, 'windchill_f': 82.8, 'heatindex_c': 28.7, 'heatindex_f': 83.7, 'dewpoint_c': 15.8, 'dewpoint_f': 60.4, 'will_it_rain': 0, 'chance_of_rain': '0', 'will_it_snow': 0, 'chance_of_snow': '0', 'vis_km': 10.0, 'vis_miles': 6.0, 'gust_mph': 7.2, 'gust_kph': 11.5, 'uv': 6.0}, {'time_epoch': 1624208400, 'time': '2021-06-20 13:00', 'temp_c': 29.0, 'temp_f': 84.2, 'is_day': 1, 'condition': {'text': 'Partly cloudy', 'icon': '//cdn.weatherapi.com/weather/64x64/day/116.png', 'code': 1003}, 'wind_mph': 7.8, 'wind_kph': 12.6, 'wind_degree': 207, 'wind_dir': 'SSW', 'pressure_mb': 1009.0, 'pressure_in': 30.3, 'precip_mm': 0.0, 'precip_in': 0.0, 'humidity': 46, 'cloud': 45, 'feelslike_c': 29.6, 'feelslike_f': 85.3, 'windchill_c': 29.0, 'windchill_f': 84.2, 'heatindex_c': 29.6, 'heatindex_f': 85.3, 'dewpoint_c': 16.2, 'dewpoint_f': 61.2, 'will_it_rain': 0, 'chance_of_rain': '0', 'will_it_snow': 0, 'chance_of_snow': '0', 'vis_km': 10.0, 'vis_miles': 6.0, 'gust_mph': 8.9, 'gust_kph': 14.4, 'uv': 7.0}, {'time_epoch': 1624212000, 'time': '2021-06-20 14:00', 'temp_c': 29.8, 'temp_f': 85.6, 'is_day': 1, 'condition': {'text': 'Cloudy', 'icon': '//cdn.weatherapi.com/weather/64x64/day/119.png', 'code': 1006}, 'wind_mph': 9.4, 'wind_kph': 15.1, 'wind_degree': 199, 'wind_dir': 'SSW', 'pressure_mb': 1008.0, 'pressure_in': 30.2, 'precip_mm': 0.0, 'precip_in': 0.0, 'humidity': 45, 'cloud': 64, 'feelslike_c': 30.4, 'feelslike_f': 86.7, 'windchill_c': 29.8, 'windchill_f': 85.6, 'heatindex_c': 30.4, 'heatindex_f': 86.7, 'dewpoint_c': 16.5, 'dewpoint_f': 61.7, 'will_it_rain': 0, 'chance_of_rain': '0', 'will_it_snow': 0, 'chance_of_snow': '0', 'vis_km': 10.0, 'vis_miles': 6.0, 'gust_mph': 10.7, 'gust_kph': 17.3, 'uv': 6.0}, {'time_epoch': 1624215600, 'time': '2021-06-20 15:00', 'temp_c': 29.0, 'temp_f': 84.2, 'is_day': 1, 'condition': {'text': 'Light rain shower', 'icon': '//cdn.weatherapi.com/weather/64x64/day/353.png', 'code': 1240}, 'wind_mph': 10.3, 'wind_kph': 16.6, 'wind_degree': 191, 'wind_dir': 'SSW', 'pressure_mb': 1008.0, 'pressure_in': 30.2, 'precip_mm': 0.1, 'precip_in': 0.0, 'humidity': 50, 'cloud': 65, 'feelslike_c': 29.8, 'feelslike_f': 85.6, 'windchill_c': 29.0, 'windchill_f': 84.2, 'heatindex_c': 29.8, 'heatindex_f': 85.6, 'dewpoint_c': 17.2, 'dewpoint_f': 63.0, 'will_it_rain': 0, 'chance_of_rain': '26', 'will_it_snow': 0, 'chance_of_snow': '0', 'vis_km': 10.0, 'vis_miles': 6.0, 'gust_mph': 12.3, 'gust_kph': 19.8, 'uv': 6.0}, {'time_epoch': 1624219200, 'time': '2021-06-20 16:00', 'temp_c': 28.1, 'temp_f': 82.6, 'is_day': 1, 'condition': {'text': 'Cloudy', 'icon': '//cdn.weatherapi.com/weather/64x64/day/119.png', 'code': 1006}, 'wind_mph': 11.4, 'wind_kph': 18.4, 'wind_degree': 183, 'wind_dir': 'S', 'pressure_mb': 1008.0, 'pressure_in': 30.2, 'precip_mm': 0.2, 'precip_in': 0.01, 'humidity': 54, 'cloud': 65, 'feelslike_c': 29.3, 'feelslike_f': 84.7, 'windchill_c': 28.1, 'windchill_f': 82.6, 'heatindex_c': 29.3, 'heatindex_f': 84.7, 'dewpoint_c': 18.0, 'dewpoint_f': 64.4, 'will_it_rain': 0, 'chance_of_rain': '52', 'will_it_snow': 0, 'chance_of_snow': '0', 'vis_km': 10.0, 'vis_miles': 6.0, 'gust_mph': 13.6, 'gust_kph': 22.0, 'uv': 6.0}, {'time_epoch': 1624222800, 'time': '2021-06-20 17:00', 'temp_c': 27.3, 'temp_f': 81.1, 'is_day': 1, 'condition': {'text': 'Light rain shower', 'icon': '//cdn.weatherapi.com/weather/64x64/day/353.png', 'code': 1240}, 'wind_mph': 12.3, 'wind_kph': 19.8, 'wind_degree': 175, 'wind_dir': 'S', 'pressure_mb': 1008.0, 'pressure_in': 30.2, 'precip_mm': 0.3, 'precip_in': 0.01, 'humidity': 59, 'cloud': 66, 'feelslike_c': 28.7, 'feelslike_f': 83.7, 'windchill_c': 27.3, 'windchill_f': 81.1, 'heatindex_c': 28.7, 'heatindex_f': 83.7, 'dewpoint_c': 18.7, 'dewpoint_f': 65.7, 'will_it_rain': 1, 'chance_of_rain': '78', 'will_it_snow': 0, 'chance_of_snow': '0', 'vis_km': 10.0, 'vis_miles': 6.0, 'gust_mph': 15.2, 'gust_kph': 24.5, 'uv': 6.0}, {'time_epoch': 1624226400, 'time': '2021-06-20 18:00', 'temp_c': 27.2, 'temp_f': 81.0, 'is_day': 1, 'condition': {'text': 'Patchy rain possible', 'icon': '//cdn.weatherapi.com/weather/64x64/day/176.png', 'code': 1063}, 'wind_mph': 10.7, 'wind_kph': 17.3, 'wind_degree': 197, 'wind_dir': 'SSW', 'pressure_mb': 1008.0, 'pressure_in': 30.2, 'precip_mm': 0.5, 'precip_in': 0.02, 'humidity': 62, 'cloud': 68, 'feelslike_c': 28.8, 'feelslike_f': 83.8, 'windchill_c': 27.2, 'windchill_f': 81.0, 'heatindex_c': 28.8, 'heatindex_f': 83.8, 'dewpoint_c': 19.3, 'dewpoint_f': 66.7, 'will_it_rain': 1, 'chance_of_rain': '80', 'will_it_snow': 0, 'chance_of_snow': '0', 'vis_km': 9.7, 'vis_miles': 6.0, 'gust_mph': 13.9, 'gust_kph': 22.3, 'uv': 6.0}, {'time_epoch': 1624230000, 'time': '2021-06-20 19:00', 'temp_c': 27.2, 'temp_f': 81.0, 'is_day': 1, 'condition': {'text': 'Light rain shower', 'icon': '//cdn.weatherapi.com/weather/64x64/day/353.png', 'code': 1240}, 'wind_mph': 9.4, 'wind_kph': 15.1, 'wind_degree': 219, 'wind_dir': 'SW', 'pressure_mb': 1008.0, 'pressure_in': 30.2, 'precip_mm': 0.7, 'precip_in': 0.03, 'humidity': 65, 'cloud': 70, 'feelslike_c': 29.0, 'feelslike_f': 84.2, 'windchill_c': 27.2, 'windchill_f': 81.0, 'heatindex_c': 29.0, 'heatindex_f': 84.2, 'dewpoint_c': 19.9, 'dewpoint_f': 67.8, 'will_it_rain': 1, 'chance_of_rain': '81', 'will_it_snow': 0, 'chance_of_snow': '0', 'vis_km': 9.3, 'vis_miles': 5.0, 'gust_mph': 12.5, 'gust_kph': 20.2, 'uv': 6.0}, {'time_epoch': 1624233600, 'time': '2021-06-20 20:00', 'temp_c': 27.1, 'temp_f': 80.8, 'is_day': 1, 'condition': {'text': 'Patchy rain possible', 'icon': '//cdn.weatherapi.com/weather/64x64/day/176.png', 'code': 1063}, 'wind_mph': 7.8, 'wind_kph': 12.6, 'wind_degree': 241, 'wind_dir': 'WSW', 'pressure_mb': 1008.0, 'pressure_in': 30.2, 'precip_mm': 0.9, 'precip_in': 0.04, 'humidity': 67, 'cloud': 72, 'feelslike_c': 29.1, 'feelslike_f': 84.4, 'windchill_c': 27.1, 'windchill_f': 80.8, 'heatindex_c': 29.1, 'heatindex_f': 84.4, 'dewpoint_c': 20.5, 'dewpoint_f': 68.9, 'will_it_rain': 1, 'chance_of_rain': '83', 'will_it_snow': 0, 'chance_of_snow': '0', 'vis_km': 9.0, 'vis_miles': 5.0, 'gust_mph': 11.2, 'gust_kph': 18.0, 'uv': 6.0}, {'time_epoch': 1624237200, 'time': '2021-06-20 21:00', 'temp_c': 26.6, 'temp_f': 79.9, 'is_day': 0, 'condition': {'text': 'Patchy rain possible', 'icon': '//cdn.weatherapi.com/weather/64x64/night/176.png', 'code': 1063}, 'wind_mph': 7.2, 'wind_kph': 11.5, 'wind_degree': 240, 'wind_dir': 'WSW', 'pressure_mb': 1008.0, 'pressure_in': 30.3, 'precip_mm': 0.6, 'precip_in': 0.02, 'humidity': 72, 'cloud': 71, 'feelslike_c': 28.7, 'feelslike_f': 83.7, 'windchill_c': 26.6, 'windchill_f': 79.9, 'heatindex_c': 28.7, 'heatindex_f': 83.7, 'dewpoint_c': 21.0, 'dewpoint_f': 69.8, 'will_it_rain': 1, 'chance_of_rain': '82', 'will_it_snow': 0, 'chance_of_snow': '0', 'vis_km': 9.3, 'vis_miles': 5.0, 'gust_mph': 10.1, 'gust_kph': 16.2, 'uv': 1.0}, {'time_epoch': 1624240800, 'time': '2021-06-20 22:00', 'temp_c': 26.0, 'temp_f': 78.8, 'is_day': 0, 'condition': {'text': 'Patchy rain possible', 'icon': '//cdn.weatherapi.com/weather/64x64/night/176.png', 'code': 1063}, 'wind_mph': 6.3, 'wind_kph': 10.1, 'wind_degree': 238, 'wind_dir': 'WSW', 'pressure_mb': 1009.0, 'pressure_in': 30.3, 'precip_mm': 0.4, 'precip_in': 0.02, 'humidity': 76, 'cloud': 71, 'feelslike_c': 28.2, 'feelslike_f': 82.8, 'windchill_c': 26.0, 'windchill_f': 78.8, 'heatindex_c': 28.2, 'heatindex_f': 82.8, 'dewpoint_c': 21.4, 'dewpoint_f': 70.5, 'will_it_rain': 1, 'chance_of_rain': '81', 'will_it_snow': 0, 'chance_of_snow': '0', 'vis_km': 9.7, 'vis_miles': 6.0, 'gust_mph': 8.9, 'gust_kph': 14.4, 'uv': 1.0}, {'time_epoch': 1624244400, 'time': '2021-06-20 23:00', 'temp_c': 25.5, 'temp_f': 77.9, 'is_day': 0, 'condition': {'text': 'Patchy rain possible', 'icon': '//cdn.weatherapi.com/weather/64x64/night/176.png', 'code': 1063}, 'wind_mph': 5.6, 'wind_kph': 9.0, 'wind_degree': 237, 'wind_dir': 'WSW', 'pressure_mb': 1009.0, 'pressure_in': 30.3, 'precip_mm': 0.1, 'precip_in': 0.0, 'humidity': 81, 'cloud': 70, 'feelslike_c': 27.8, 'feelslike_f': 82.0, 'windchill_c': 25.5, 'windchill_f': 77.9, 'heatindex_c': 27.8, 'heatindex_f': 82.0, 'dewpoint_c': 21.9, 'dewpoint_f': 71.4, 'will_it_rain': 1, 'chance_of_rain': '80', 'will_it_snow': 0, 'chance_of_snow': '0', 'vis_km': 10.0, 'vis_miles': 6.0, 'gust_mph': 7.8, 'gust_kph': 12.6, 'uv': 1.0}]}, {'date': '2021-06-21', 'date_epoch': 1624233600, 'day': {'maxtemp_c': 32.1, 'maxtemp_f': 89.8, 'mintemp_c': 23.0, 'mintemp_f': 73.4, 'avgtemp_c': 27.5, 'avgtemp_f': 81.4, 'maxwind_mph': 16.1, 'maxwind_kph': 25.9, 'totalprecip_mm': 5.7, 'totalprecip_in': 0.22, 'avgvis_km': 9.5, 'avgvis_miles': 5.0, 'avghumidity': 67.0, 'daily_will_it_rain': 0, 'daily_chance_of_rain': '68', 'daily_will_it_snow': 0, 'daily_chance_of_snow': '0', 'condition': {'text': 'Moderate rain', 'icon': '//cdn.weatherapi.com/weather/64x64/day/302.png', 'code': 1189}, 'uv': 9.0}, 'astro': {'sunrise': '05:25 AM', 'sunset': '08:31 PM', 'moonrise': '05:06 PM', 'moonset': '02:51 AM', 'moon_phase': 'Full Moon', 'moon_illumination': '83'}, 'hour': [{'time_epoch': 1624248000, 'time': '2021-06-21 00:00', 'temp_c': 24.9, 'temp_f': 76.8, 'is_day': 0, 'condition': {'text': 'Patchy rain possible', 'icon': '//cdn.weatherapi.com/weather/64x64/night/176.png', 'code': 1063}, 'wind_mph': 5.8, 'wind_kph': 9.4, 'wind_degree': 225, 'wind_dir': 'SW', 'pressure_mb': 1009.0, 'pressure_in': 30.3, 'precip_mm': 0.1, 'precip_in': 0.0, 'humidity': 82, 'cloud': 72, 'feelslike_c': 27.1, 'feelslike_f': 80.8, 'windchill_c': 24.9, 'windchill_f': 76.8, 'heatindex_c': 27.1, 'heatindex_f': 80.8, 'dewpoint_c': 21.6, 'dewpoint_f': 70.9, 'will_it_rain': 1, 'chance_of_rain': '76', 'will_it_snow': 0, 'chance_of_snow': '0', 'vis_km': 9.7, 'vis_miles': 6.0, 'gust_mph': 8.5, 'gust_kph': 13.7, 'uv': 1.0}, {'time_epoch': 1624251600, 'time': '2021-06-21 01:00', 'temp_c': 24.3, 'temp_f': 75.7, 'is_day': 0, 'condition': {'text': 'Patchy rain possible', 'icon': '//cdn.weatherapi.com/weather/64x64/night/176.png', 'code': 1063}, 'wind_mph': 6.0, 'wind_kph': 9.7, 'wind_degree': 214, 'wind_dir': 'SW', 'pressure_mb': 1009.0, 'pressure_in': 30.3, 'precip_mm': 0.2, 'precip_in': 0.01, 'humidity': 84, 'cloud': 74, 'feelslike_c': 26.5, 'feelslike_f': 79.7, 'windchill_c': 24.3, 'windchill_f': 75.7, 'heatindex_c': 26.5, 'heatindex_f': 79.7, 'dewpoint_c': 21.3, 'dewpoint_f': 70.3, 'will_it_rain': 1, 'chance_of_rain': '72', 'will_it_snow': 0, 'chance_of_snow': '0', 'vis_km': 9.3, 'vis_miles': 5.0, 'gust_mph': 9.4, 'gust_kph': 15.1, 'uv': 1.0}, {'time_epoch': 1624255200, 'time': '2021-06-21 02:00', 'temp_c': 23.7, 'temp_f': 74.7, 'is_day': 0, 'condition': {'text': 'Patchy rain possible', 'icon': '//cdn.weatherapi.com/weather/64x64/night/176.png', 'code': 1063}, 'wind_mph': 6.3, 'wind_kph': 10.1, 'wind_degree': 202, 'wind_dir': 'SSW', 'pressure_mb': 1009.0, 'pressure_in': 30.3, 'precip_mm': 0.2, 'precip_in': 0.01, 'humidity': 85, 'cloud': 76, 'feelslike_c': 25.8, 'feelslike_f': 78.4, 'windchill_c': 23.7, 'windchill_f': 74.7, 'heatindex_c': 25.8, 'heatindex_f': 78.4, 'dewpoint_c': 21.0, 'dewpoint_f': 69.8, 'will_it_rain': 0, 'chance_of_rain': '68', 'will_it_snow': 0, 'chance_of_snow': '0', 'vis_km': 9.0, 'vis_miles': 5.0, 'gust_mph': 10.1, 'gust_kph': 16.2, 'uv': 1.0}, {'time_epoch': 1624258800, 'time': '2021-06-21 03:00', 'temp_c': 23.5, 'temp_f': 74.3, 'is_day': 0, 'condition': {'text': 'Partly cloudy', 'icon': '//cdn.weatherapi.com/weather/64x64/night/116.png', 'code': 1003}, 'wind_mph': 5.8, 'wind_kph': 9.4, 'wind_degree': 199, 'wind_dir': 'SSW', 'pressure_mb': 1009.0, 'pressure_in': 30.3, 'precip_mm': 0.1, 'precip_in': 0.0, 'humidity': 85, 'cloud': 58, 'feelslike_c': 25.6, 'feelslike_f': 78.1, 'windchill_c': 23.5, 'windchill_f': 74.3, 'heatindex_c': 25.6, 'heatindex_f': 78.1, 'dewpoint_c': 20.8, 'dewpoint_f': 69.4, 'will_it_rain': 0, 'chance_of_rain': '45', 'will_it_snow': 0, 'chance_of_snow': '0', 'vis_km': 9.3, 'vis_miles': 5.0, 'gust_mph': 9.4, 'gust_kph': 15.1, 'uv': 1.0}, {'time_epoch': 1624262400, 'time': '2021-06-21 04:00', 'temp_c': 23.2, 'temp_f': 73.8, 'is_day': 0, 'condition': {'text': 'Patchy rain possible', 'icon': '//cdn.weatherapi.com/weather/64x64/night/176.png', 'code': 1063}, 'wind_mph': 5.4, 'wind_kph': 8.6, 'wind_degree': 197, 'wind_dir': 'SSW', 'pressure_mb': 1008.0, 'pressure_in': 30.2, 'precip_mm': 0.1, 'precip_in': 0.0, 'humidity': 85, 'cloud': 39, 'feelslike_c': 25.4, 'feelslike_f': 77.7, 'windchill_c': 23.2, 'windchill_f': 73.8, 'heatindex_c': 25.4, 'heatindex_f': 77.7, 'dewpoint_c': 20.7, 'dewpoint_f': 69.3, 'will_it_rain': 0, 'chance_of_rain': '23', 'will_it_snow': 0, 'chance_of_snow': '0', 'vis_km': 9.7, 'vis_miles': 6.0, 'gust_mph': 8.5, 'gust_kph': 13.7, 'uv': 1.0}, {'time_epoch': 1624266000, 'time': '2021-06-21 05:00', 'temp_c': 23.0, 'temp_f': 73.4, 'is_day': 0, 'condition': {'text': 'Partly cloudy', 'icon': '//cdn.weatherapi.com/weather/64x64/night/116.png', 'code': 1003}, 'wind_mph': 4.9, 'wind_kph': 7.9, 'wind_degree': 194, 'wind_dir': 'SSW', 'pressure_mb': 1008.0, 'pressure_in': 30.2, 'precip_mm': 0.0, 'precip_in': 0.0, 'humidity': 86, 'cloud': 20, 'feelslike_c': 25.2, 'feelslike_f': 77.4, 'windchill_c': 23.0, 'windchill_f': 73.4, 'heatindex_c': 25.2, 'heatindex_f': 77.4, 'dewpoint_c': 20.5, 'dewpoint_f': 68.9, 'will_it_rain': 0, 'chance_of_rain': '0', 'will_it_snow': 0, 'chance_of_snow': '0', 'vis_km': 10.0, 'vis_miles': 6.0, 'gust_mph': 7.8, 'gust_kph': 12.6, 'uv': 1.0}, {'time_epoch': 1624269600, 'time': '2021-06-21 06:00', 'temp_c': 23.7, 'temp_f': 74.7, 'is_day': 1, 'condition': {'text': 'Partly cloudy', 'icon': '//cdn.weatherapi.com/weather/64x64/day/116.png', 'code': 1003}, 'wind_mph': 6.5, 'wind_kph': 10.4, 'wind_degree': 201, 'wind_dir': 'SSW', 'pressure_mb': 1008.0, 'pressure_in': 30.2, 'precip_mm': 0.0, 'precip_in': 0.0, 'humidity': 81, 'cloud': 17, 'feelslike_c': 25.8, 'feelslike_f': 78.4, 'windchill_c': 23.7, 'windchill_f': 74.7, 'heatindex_c': 25.8, 'heatindex_f': 78.4, 'dewpoint_c': 20.3, 'dewpoint_f': 68.5, 'will_it_rain': 0, 'chance_of_rain': '0', 'will_it_snow': 0, 'chance_of_snow': '0', 'vis_km': 10.0, 'vis_miles': 6.0, 'gust_mph': 9.4, 'gust_kph': 15.1, 'uv': 6.0}, {'time_epoch': 1624273200, 'time': '2021-06-21 07:00', 'temp_c': 24.5, 'temp_f': 76.1, 'is_day': 1, 'condition': {'text': 'Partly cloudy', 'icon': '//cdn.weatherapi.com/weather/64x64/day/116.png', 'code': 1003}, 'wind_mph': 8.1, 'wind_kph': 13.0, 'wind_degree': 209, 'wind_dir': 'SSW', 'pressure_mb': 1008.0, 'pressure_in': 30.2, 'precip_mm': 0.0, 'precip_in': 0.0, 'humidity': 77, 'cloud': 13, 'feelslike_c': 26.3, 'feelslike_f': 79.3, 'windchill_c': 24.5, 'windchill_f': 76.1, 'heatindex_c': 26.3, 'heatindex_f': 79.3, 'dewpoint_c': 20.0, 'dewpoint_f': 68.0, 'will_it_rain': 0, 'chance_of_rain': '0', 'will_it_snow': 0, 'chance_of_snow': '0', 'vis_km': 10.0, 'vis_miles': 6.0, 'gust_mph': 10.7, 'gust_kph': 17.3, 'uv': 6.0}, {'time_epoch': 1624276800, 'time': '2021-06-21 08:00', 'temp_c': 25.2, 'temp_f': 77.4, 'is_day': 1, 'condition': {'text': 'Partly cloudy', 'icon': '//cdn.weatherapi.com/weather/64x64/day/116.png', 'code': 1003}, 'wind_mph': 9.6, 'wind_kph': 15.5, 'wind_degree': 216, 'wind_dir': 'SW', 'pressure_mb': 1008.0, 'pressure_in': 30.2, 'precip_mm': 0.0, 'precip_in': 0.0, 'humidity': 72, 'cloud': 9, 'feelslike_c': 26.9, 'feelslike_f': 80.4, 'windchill_c': 25.2, 'windchill_f': 77.4, 'heatindex_c': 26.9, 'heatindex_f': 80.4, 'dewpoint_c': 19.8, 'dewpoint_f': 67.6, 'will_it_rain': 0, 'chance_of_rain': '0', 'will_it_snow': 0, 'chance_of_snow': '0', 'vis_km': 10.0, 'vis_miles': 6.0, 'gust_mph': 12.3, 'gust_kph': 19.8, 'uv': 7.0}, {'time_epoch': 1624280400, 'time': '2021-06-21 09:00', 'temp_c': 26.8, 'temp_f': 80.2, 'is_day': 1, 'condition': {'text': 'Partly cloudy', 'icon': '//cdn.weatherapi.com/weather/64x64/day/116.png', 'code': 1003}, 'wind_mph': 10.5, 'wind_kph': 16.9, 'wind_degree': 209, 'wind_dir': 'SSW', 'pressure_mb': 1008.0, 'pressure_in': 30.2, 'precip_mm': 0.0, 'precip_in': 0.0, 'humidity': 66, 'cloud': 7, 'feelslike_c': 28.5, 'feelslike_f': 83.3, 'windchill_c': 26.8, 'windchill_f': 80.2, 'heatindex_c': 28.5, 'heatindex_f': 83.3, 'dewpoint_c': 19.6, 'dewpoint_f': 67.3, 'will_it_rain': 0, 'chance_of_rain': '0', 'will_it_snow': 0, 'chance_of_snow': '0', 'vis_km': 10.0, 'vis_miles': 6.0, 'gust_mph': 12.8, 'gust_kph': 20.5, 'uv': 7.0}, {'time_epoch': 1624284000, 'time': '2021-06-21 10:00', 'temp_c': 28.3, 'temp_f': 82.9, 'is_day': 1, 'condition': {'text': 'Partly cloudy', 'icon': '//cdn.weatherapi.com/weather/64x64/day/116.png', 'code': 1003}, 'wind_mph': 11.2, 'wind_kph': 18.0, 'wind_degree': 202, 'wind_dir': 'SSW', 'pressure_mb': 1007.0, 'pressure_in': 30.2, 'precip_mm': 0.0, 'precip_in': 0.0, 'humidity': 59, 'cloud': 6, 'feelslike_c': 30.1, 'feelslike_f': 86.2, 'windchill_c': 28.3, 'windchill_f': 82.9, 'heatindex_c': 30.1, 'heatindex_f': 86.2, 'dewpoint_c': 19.4, 'dewpoint_f': 66.9, 'will_it_rain': 0, 'chance_of_rain': '0', 'will_it_snow': 0, 'chance_of_snow': '0', 'vis_km': 10.0, 'vis_miles': 6.0, 'gust_mph': 13.4, 'gust_kph': 21.6, 'uv': 7.0}, {'time_epoch': 1624287600, 'time': '2021-06-21 11:00', 'temp_c': 29.9, 'temp_f': 85.8, 'is_day': 1, 'condition': {'text': 'Partly cloudy', 'icon': '//cdn.weatherapi.com/weather/64x64/day/116.png', 'code': 1003}, 'wind_mph': 12.1, 'wind_kph': 19.4, 'wind_degree': 195, 'wind_dir': 'SSW', 'pressure_mb': 1007.0, 'pressure_in': 30.2, 'precip_mm': 0.0, 'precip_in': 0.0, 'humidity': 53, 'cloud': 4, 'feelslike_c': 31.7, 'feelslike_f': 89.1, 'windchill_c': 29.9, 'windchill_f': 85.8, 'heatindex_c': 31.7, 'heatindex_f': 89.1, 'dewpoint_c': 19.2, 'dewpoint_f': 66.6, 'will_it_rain': 0, 'chance_of_rain': '0', 'will_it_snow': 0, 'chance_of_snow': '0', 'vis_km': 10.0, 'vis_miles': 6.0, 'gust_mph': 13.9, 'gust_kph': 22.3, 'uv': 7.0}, {'time_epoch': 1624291200, 'time': '2021-06-21 12:00', 'temp_c': 30.6, 'temp_f': 87.1, 'is_day': 1, 'condition': {'text': 'Partly cloudy', 'icon': '//cdn.weatherapi.com/weather/64x64/day/116.png', 'code': 1003}, 'wind_mph': 12.5, 'wind_kph': 20.2, 'wind_degree': 190, 'wind_dir': 'S', 'pressure_mb': 1006.0, 'pressure_in': 30.2, 'precip_mm': 0.0, 'precip_in': 0.0, 'humidity': 50, 'cloud': 9, 'feelslike_c': 32.5, 'feelslike_f': 90.5, 'windchill_c': 30.6, 'windchill_f': 87.1, 'heatindex_c': 32.5, 'heatindex_f': 90.5, 'dewpoint_c': 19.1, 'dewpoint_f': 66.4, 'will_it_rain': 0, 'chance_of_rain': '0', 'will_it_snow': 0, 'chance_of_snow': '0', 'vis_km': 10.0, 'vis_miles': 6.0, 'gust_mph': 14.3, 'gust_kph': 23.0, 'uv': 8.0}, {'time_epoch': 1624294800, 'time': '2021-06-21 13:00', 'temp_c': 31.4, 'temp_f': 88.5, 'is_day': 1, 'condition': {'text': 'Partly cloudy', 'icon': '//cdn.weatherapi.com/weather/64x64/day/116.png', 'code': 1003}, 'wind_mph': 13.0, 'wind_kph': 20.9, 'wind_degree': 185, 'wind_dir': 'S', 'pressure_mb': 1006.0, 'pressure_in': 30.2, 'precip_mm': 0.0, 'precip_in': 0.0, 'humidity': 48, 'cloud': 14, 'feelslike_c': 33.4, 'feelslike_f': 92.1, 'windchill_c': 31.4, 'windchill_f': 88.5, 'heatindex_c': 33.4, 'heatindex_f': 92.1, 'dewpoint_c': 19.1, 'dewpoint_f': 66.4, 'will_it_rain': 0, 'chance_of_rain': '0', 'will_it_snow': 0, 'chance_of_snow': '0', 'vis_km': 10.0, 'vis_miles': 6.0, 'gust_mph': 15.0, 'gust_kph': 24.1, 'uv': 8.0}, {'time_epoch': 1624298400, 'time': '2021-06-21 14:00', 'temp_c': 32.1, 'temp_f': 89.8, 'is_day': 1, 'condition': {'text': 'Partly cloudy', 'icon': '//cdn.weatherapi.com/weather/64x64/day/116.png', 'code': 1003}, 'wind_mph': 13.4, 'wind_kph': 21.6, 'wind_degree': 179, 'wind_dir': 'S', 'pressure_mb': 1005.0, 'pressure_in': 30.2, 'precip_mm': 0.0, 'precip_in': 0.0, 'humidity': 46, 'cloud': 19, 'feelslike_c': 34.2, 'feelslike_f': 93.6, 'windchill_c': 32.1, 'windchill_f': 89.8, 'heatindex_c': 34.2, 'heatindex_f': 93.6, 'dewpoint_c': 19.0, 'dewpoint_f': 66.2, 'will_it_rain': 0, 'chance_of_rain': '0', 'will_it_snow': 0, 'chance_of_snow': '0', 'vis_km': 10.0, 'vis_miles': 6.0, 'gust_mph': 15.4, 'gust_kph': 24.8, 'uv': 8.0}, {'time_epoch': 1624302000, 'time': '2021-06-21 15:00', 'temp_c': 31.9, 'temp_f': 89.4, 'is_day': 1, 'condition': {'text': 'Partly cloudy', 'icon': '//cdn.weatherapi.com/weather/64x64/day/116.png', 'code': 1003}, 'wind_mph': 14.3, 'wind_kph': 23.0, 'wind_degree': 181, 'wind_dir': 'S', 'pressure_mb': 1005.0, 'pressure_in': 30.1, 'precip_mm': 0.0, 'precip_in': 0.0, 'humidity': 47, 'cloud': 29, 'feelslike_c': 34.0, 'feelslike_f': 93.2, 'windchill_c': 31.9, 'windchill_f': 89.4, 'heatindex_c': 34.0, 'heatindex_f': 93.2, 'dewpoint_c': 19.1, 'dewpoint_f': 66.4, 'will_it_rain': 0, 'chance_of_rain': '0', 'will_it_snow': 0, 'chance_of_snow': '0', 'vis_km': 10.0, 'vis_miles': 6.0, 'gust_mph': 16.8, 'gust_kph': 27.0, 'uv': 8.0}, {'time_epoch': 1624305600, 'time': '2021-06-21 16:00', 'temp_c': 31.8, 'temp_f': 89.2, 'is_day': 1, 'condition': {'text': 'Partly cloudy', 'icon': '//cdn.weatherapi.com/weather/64x64/day/116.png', 'code': 1003}, 'wind_mph': 15.2, 'wind_kph': 24.5, 'wind_degree': 183, 'wind_dir': 'S', 'pressure_mb': 1004.0, 'pressure_in': 30.1, 'precip_mm': 0.0, 'precip_in': 0.0, 'humidity': 47, 'cloud': 39, 'feelslike_c': 33.9, 'feelslike_f': 93.0, 'windchill_c': 31.8, 'windchill_f': 89.2, 'heatindex_c': 33.9, 'heatindex_f': 93.0, 'dewpoint_c': 19.1, 'dewpoint_f': 66.4, 'will_it_rain': 0, 'chance_of_rain': '0', 'will_it_snow': 0, 'chance_of_snow': '0', 'vis_km': 10.0, 'vis_miles': 6.0, 'gust_mph': 18.3, 'gust_kph': 29.5, 'uv': 8.0}, {'time_epoch': 1624309200, 'time': '2021-06-21 17:00', 'temp_c': 31.6, 'temp_f': 88.9, 'is_day': 1, 'condition': {'text': 'Partly cloudy', 'icon': '//cdn.weatherapi.com/weather/64x64/day/116.png', 'code': 1003}, 'wind_mph': 16.1, 'wind_kph': 25.9, 'wind_degree': 185, 'wind_dir': 'S', 'pressure_mb': 1003.0, 'pressure_in': 30.1, 'precip_mm': 0.0, 'precip_in': 0.0, 'humidity': 48, 'cloud': 49, 'feelslike_c': 33.7, 'feelslike_f': 92.7, 'windchill_c': 31.6, 'windchill_f': 88.9, 'heatindex_c': 33.7, 'heatindex_f': 92.7, 'dewpoint_c': 19.2, 'dewpoint_f': 66.6, 'will_it_rain': 0, 'chance_of_rain': '0', 'will_it_snow': 0, 'chance_of_snow': '0', 'vis_km': 10.0, 'vis_miles': 6.0, 'gust_mph': 19.7, 'gust_kph': 31.7, 'uv': 8.0}, {'time_epoch': 1624312800, 'time': '2021-06-21 18:00', 'temp_c': 30.7, 'temp_f': 87.3, 'is_day': 1, 'condition': {'text': 'Partly cloudy', 'icon': '//cdn.weatherapi.com/weather/64x64/day/116.png', 'code': 1003}, 'wind_mph': 15.0, 'wind_kph': 24.1, 'wind_degree': 190, 'wind_dir': 'S', 'pressure_mb': 1003.0, 'pressure_in': 30.1, 'precip_mm': 0.0, 'precip_in': 0.0, 'humidity': 52, 'cloud': 34, 'feelslike_c': 32.9, 'feelslike_f': 91.2, 'windchill_c': 30.7, 'windchill_f': 87.3, 'heatindex_c': 32.9, 'heatindex_f': 91.2, 'dewpoint_c': 19.6, 'dewpoint_f': 67.3, 'will_it_rain': 0, 'chance_of_rain': '0', 'will_it_snow': 0, 'chance_of_snow': '0', 'vis_km': 10.0, 'vis_miles': 6.0, 'gust_mph': 19.2, 'gust_kph': 31.0, 'uv': 8.0}, {'time_epoch': 1624316400, 'time': '2021-06-21 19:00', 'temp_c': 29.9, 'temp_f': 85.8, 'is_day': 1, 'condition': {'text': 'Partly cloudy', 'icon': '//cdn.weatherapi.com/weather/64x64/day/116.png', 'code': 1003}, 'wind_mph': 14.1, 'wind_kph': 22.7, 'wind_degree': 194, 'wind_dir': 'SSW', 'pressure_mb': 1003.0, 'pressure_in': 30.1, 'precip_mm': 0.0, 'precip_in': 0.0, 'humidity': 56, 'cloud': 19, 'feelslike_c': 32.0, 'feelslike_f': 89.6, 'windchill_c': 29.9, 'windchill_f': 85.8, 'heatindex_c': 32.0, 'heatindex_f': 89.6, 'dewpoint_c': 19.9, 'dewpoint_f': 67.8, 'will_it_rain': 0, 'chance_of_rain': '0', 'will_it_snow': 0, 'chance_of_snow': '0', 'vis_km': 10.0, 'vis_miles': 6.0, 'gust_mph': 18.8, 'gust_kph': 30.2, 'uv': 7.0}, {'time_epoch': 1624320000, 'time': '2021-06-21 20:00', 'temp_c': 29.0, 'temp_f': 84.2, 'is_day': 1, 'condition': {'text': 'Partly cloudy', 'icon': '//cdn.weatherapi.com/weather/64x64/day/116.png', 'code': 1003}, 'wind_mph': 13.0, 'wind_kph': 20.9, 'wind_degree': 198, 'wind_dir': 'SSW', 'pressure_mb': 1003.0, 'pressure_in': 30.1, 'precip_mm': 0.0, 'precip_in': 0.0, 'humidity': 59, 'cloud': 4, 'feelslike_c': 31.2, 'feelslike_f': 88.2, 'windchill_c': 29.0, 'windchill_f': 84.2, 'heatindex_c': 31.2, 'heatindex_f': 88.2, 'dewpoint_c': 20.3, 'dewpoint_f': 68.5, 'will_it_rain': 0, 'chance_of_rain': '0', 'will_it_snow': 0, 'chance_of_snow': '0', 'vis_km': 10.0, 'vis_miles': 6.0, 'gust_mph': 18.3, 'gust_kph': 29.5, 'uv': 7.0}, {'time_epoch': 1624323600, 'time': '2021-06-21 21:00', 'temp_c': 27.7, 'temp_f': 81.9, 'is_day': 0, 'condition': {'text': 'Moderate or heavy rain shower', 'icon': '//cdn.weatherapi.com/weather/64x64/night/356.png', 'code': 1243}, 'wind_mph': 9.8, 'wind_kph': 15.8, 'wind_degree': 227, 'wind_dir': 'SW', 'pressure_mb': 1004.0, 'pressure_in': 30.1, 'precip_mm': 1.8, 'precip_in': 0.07, 'humidity': 68, 'cloud': 25, 'feelslike_c': 30.0, 'feelslike_f': 86.0, 'windchill_c': 27.7, 'windchill_f': 81.9, 'heatindex_c': 30.0, 'heatindex_f': 86.0, 'dewpoint_c': 21.0, 'dewpoint_f': 69.8, 'will_it_rain': 0, 'chance_of_rain': '22', 'will_it_snow': 0, 'chance_of_snow': '0', 'vis_km': 9.0, 'vis_miles': 5.0, 'gust_mph': 14.5, 'gust_kph': 23.4, 'uv': 1.0}, {'time_epoch': 1624327200, 'time': '2021-06-21 22:00', 'temp_c': 26.5, 'temp_f': 79.7, 'is_day': 0, 'condition': {'text': 'Partly cloudy', 'icon': '//cdn.weatherapi.com/weather/64x64/night/116.png', 'code': 1003}, 'wind_mph': 6.9, 'wind_kph': 11.2, 'wind_degree': 256, 'wind_dir': 'WSW', 'pressure_mb': 1005.0, 'pressure_in': 30.2, 'precip_mm': 3.7, 'precip_in': 0.15, 'humidity': 76, 'cloud': 46, 'feelslike_c': 28.8, 'feelslike_f': 83.8, 'windchill_c': 26.5, 'windchill_f': 79.7, 'heatindex_c': 28.8, 'heatindex_f': 83.8, 'dewpoint_c': 21.6, 'dewpoint_f': 70.9, 'will_it_rain': 0, 'chance_of_rain': '45', 'will_it_snow': 0, 'chance_of_snow': '0', 'vis_km': 8.0, 'vis_miles': 4.0, 'gust_mph': 11.0, 'gust_kph': 17.6, 'uv': 1.0}, {'time_epoch': 1624330800, 'time': '2021-06-21 23:00', 'temp_c': 25.2, 'temp_f': 77.4, 'is_day': 0, 'condition': {'text': 'Moderate or heavy rain shower', 'icon': '//cdn.weatherapi.com/weather/64x64/night/356.png', 'code': 1243}, 'wind_mph': 3.8, 'wind_kph': 6.1, 'wind_degree': 284, 'wind_dir': 'WNW', 'pressure_mb': 1006.0, 'pressure_in': 30.2, 'precip_mm': 5.5, 'precip_in': 0.22, 'humidity': 84, 'cloud': 67, 'feelslike_c': 27.6, 'feelslike_f': 81.7, 'windchill_c': 25.2, 'windchill_f': 77.4, 'heatindex_c': 27.6, 'heatindex_f': 81.7, 'dewpoint_c': 22.3, 'dewpoint_f': 72.1, 'will_it_rain': 0, 'chance_of_rain': '67', 'will_it_snow': 0, 'chance_of_snow': '0', 'vis_km': 7.0, 'vis_miles': 4.0, 'gust_mph': 7.2, 'gust_kph': 11.5, 'uv': 1.0}]}, {'date': '2021-06-22', 'date_epoch': 1624320000, 'day': {'maxtemp_c': 21.1, 'maxtemp_f': 70.0, 'mintemp_c': 16.4, 'mintemp_f': 61.5, 'avgtemp_c': 19.8, 'avgtemp_f': 67.6, 'maxwind_mph': 13.0, 'maxwind_kph': 20.9, 'totalprecip_mm': 11.7, 'totalprecip_in': 0.46, 'avgvis_km': 9.6, 'avgvis_miles': 5.0, 'avghumidity': 73.0, 'daily_will_it_rain': 1, 'daily_chance_of_rain': '84', 'daily_will_it_snow': 0, 'daily_chance_of_snow': '0', 'condition': {'text': 'Moderate rain', 'icon': '//cdn.weatherapi.com/weather/64x64/day/302.png', 'code': 1189}, 'uv': 5.0}, 'astro': {'sunrise': '05:26 AM', 'sunset': '08:31 PM', 'moonrise': '06:25 PM', 'moonset': '03:26 AM', 'moon_phase': 'Full Moon', 'moon_illumination': '90'}, 'hour': [{'time_epoch': 1624334400, 'time': '2021-06-22 00:00', 'temp_c': 24.5, 'temp_f': 76.1, 'is_day': 0, 'condition': {'text': 'Moderate or heavy rain shower', 'icon': '//cdn.weatherapi.com/weather/64x64/night/356.png', 'code': 1243}, 'wind_mph': 4.9, 'wind_kph': 7.9, 'wind_degree': 254, 'wind_dir': 'WSW', 'pressure_mb': 1006.0, 'pressure_in': 30.2, 'precip_mm': 6.0, 'precip_in': 0.24, 'humidity': 87, 'cloud': 62, 'feelslike_c': 26.8, 'feelslike_f': 80.2, 'windchill_c': 24.5, 'windchill_f': 76.1, 'heatindex_c': 26.8, 'heatindex_f': 80.2, 'dewpoint_c': 22.1, 'dewpoint_f': 71.8, 'will_it_rain': 0, 'chance_of_rain': '67', 'will_it_snow': 0, 'chance_of_snow': '0', 'vis_km': 7.0, 'vis_miles': 4.0, 'gust_mph': 9.6, 'gust_kph': 15.5, 'uv': 1.0}, {'time_epoch': 1624338000, 'time': '2021-06-22 01:00', 'temp_c': 23.7, 'temp_f': 74.7, 'is_day': 0, 'condition': {'text': 'Moderate or heavy rain shower', 'icon': '//cdn.weatherapi.com/weather/64x64/night/356.png', 'code': 1243}, 'wind_mph': 6.3, 'wind_kph': 10.1, 'wind_degree': 224, 'wind_dir': 'SW', 'pressure_mb': 1005.0, 'pressure_in': 30.2, 'precip_mm': 6.4, 'precip_in': 0.25, 'humidity': 90, 'cloud': 58, 'feelslike_c': 26.1, 'feelslike_f': 79.0, 'windchill_c': 23.7, 'windchill_f': 74.7, 'heatindex_c': 26.1, 'heatindex_f': 79.0, 'dewpoint_c': 21.9, 'dewpoint_f': 71.4, 'will_it_rain': 0, 'chance_of_rain': '66', 'will_it_snow': 0, 'chance_of_snow': '0', 'vis_km': 7.0, 'vis_miles': 4.0, 'gust_mph': 12.3, 'gust_kph': 19.8, 'uv': 1.0}, {'time_epoch': 1624341600, 'time': '2021-06-22 02:00', 'temp_c': 23.0, 'temp_f': 73.4, 'is_day': 0, 'condition': {'text': 'Moderate or heavy rain shower', 'icon': '//cdn.weatherapi.com/weather/64x64/night/356.png', 'code': 1243}, 'wind_mph': 7.4, 'wind_kph': 11.9, 'wind_degree': 194, 'wind_dir': 'SSW', 'pressure_mb': 1005.0, 'pressure_in': 30.2, 'precip_mm': 6.9, 'precip_in': 0.27, 'humidity': 93, 'cloud': 53, 'feelslike_c': 25.3, 'feelslike_f': 77.5, 'windchill_c': 23.0, 'windchill_f': 73.4, 'heatindex_c': 25.3, 'heatindex_f': 77.5, 'dewpoint_c': 21.7, 'dewpoint_f': 71.1, 'will_it_rain': 0, 'chance_of_rain': '66', 'will_it_snow': 0, 'chance_of_snow': '0', 'vis_km': 7.0, 'vis_miles': 4.0, 'gust_mph': 14.8, 'gust_kph': 23.8, 'uv': 1.0}, {'time_epoch': 1624345200, 'time': '2021-06-22 03:00', 'temp_c': 23.0, 'temp_f': 73.4, 'is_day': 0, 'condition': {'text': 'Light rain shower', 'icon': '//cdn.weatherapi.com/weather/64x64/night/353.png', 'code': 1240}, 'wind_mph': 6.5, 'wind_kph': 10.4, 'wind_degree': 211, 'wind_dir': 'SSW', 'pressure_mb': 1005.0, 'pressure_in': 30.1, 'precip_mm': 4.7, 'precip_in': 0.19, 'humidity': 94, 'cloud': 62, 'feelslike_c': 25.3, 'feelslike_f': 77.5, 'windchill_c': 23.0, 'windchill_f': 73.4, 'heatindex_c': 25.3, 'heatindex_f': 77.5, 'dewpoint_c': 21.8, 'dewpoint_f': 71.2, 'will_it_rain': 0, 'chance_of_rain': '65', 'will_it_snow': 0, 'chance_of_snow': '0', 'vis_km': 8.0, 'vis_miles': 4.0, 'gust_mph': 12.1, 'gust_kph': 19.4, 'uv': 1.0}, {'time_epoch': 1624348800, 'time': '2021-06-22 04:00', 'temp_c': 22.9, 'temp_f': 73.2, 'is_day': 0, 'condition': {'text': 'Moderate or heavy rain shower', 'icon': '//cdn.weatherapi.com/weather/64x64/night/356.png', 'code': 1243}, 'wind_mph': 5.4, 'wind_kph': 8.6, 'wind_degree': 227, 'wind_dir': 'SW', 'pressure_mb': 1005.0, 'pressure_in': 30.1, 'precip_mm': 2.5, 'precip_in': 0.1, 'humidity': 94, 'cloud': 70, 'feelslike_c': 25.3, 'feelslike_f': 77.5, 'windchill_c': 22.9, 'windchill_f': 73.2, 'heatindex_c': 25.3, 'heatindex_f': 77.5, 'dewpoint_c': 22.0, 'dewpoint_f': 71.6, 'will_it_rain': 0, 'chance_of_rain': '63', 'will_it_snow': 0, 'chance_of_snow': '0', 'vis_km': 9.0, 'vis_miles': 5.0, 'gust_mph': 9.2, 'gust_kph': 14.8, 'uv': 1.0}, {'time_epoch': 1624352400, 'time': '2021-06-22 05:00', 'temp_c': 22.9, 'temp_f': 73.2, 'is_day': 0, 'condition': {'text': 'Light rain shower', 'icon': '//cdn.weatherapi.com/weather/64x64/night/353.png', 'code': 1240}, 'wind_mph': 4.5, 'wind_kph': 7.2, 'wind_degree': 244, 'wind_dir': 'WSW', 'pressure_mb': 1005.0, 'pressure_in': 30.1, 'precip_mm': 0.3, 'precip_in': 0.01, 'humidity': 95, 'cloud': 79, 'feelslike_c': 25.3, 'feelslike_f': 77.5, 'windchill_c': 22.9, 'windchill_f': 73.2, 'heatindex_c': 25.3, 'heatindex_f': 77.5, 'dewpoint_c': 22.1, 'dewpoint_f': 71.8, 'will_it_rain': 0, 'chance_of_rain': '62', 'will_it_snow': 0, 'chance_of_snow': '0', 'vis_km': 10.0, 'vis_miles': 6.0, 'gust_mph': 6.5, 'gust_kph': 10.4, 'uv': 1.0}, {'time_epoch': 1624356000, 'time': '2021-06-22 06:00', 'temp_c': 22.0, 'temp_f': 71.6, 'is_day': 1, 'condition': {'text': 'Light rain shower', 'icon': '//cdn.weatherapi.com/weather/64x64/day/353.png', 'code': 1240}, 'wind_mph': 6.9, 'wind_kph': 11.2, 'wind_degree': 269, 'wind_dir': 'W', 'pressure_mb': 1005.0, 'pressure_in': 30.2, 'precip_mm': 0.7, 'precip_in': 0.03, 'humidity': 93, 'cloud': 76, 'feelslike_c': 23.6, 'feelslike_f': 74.5, 'windchill_c': 22.0, 'windchill_f': 71.6, 'heatindex_c': 23.6, 'heatindex_f': 74.5, 'dewpoint_c': 20.8, 'dewpoint_f': 69.4, 'will_it_rain': 0, 'chance_of_rain': '59', 'will_it_snow': 0, 'chance_of_snow': '0', 'vis_km': 10.0, 'vis_miles': 6.0, 'gust_mph': 9.8, 'gust_kph': 15.8, 'uv': 5.0}, {'time_epoch': 1624359600, 'time': '2021-06-22 07:00', 'temp_c': 21.2, 'temp_f': 70.2, 'is_day': 1, 'condition': {'text': 'Light rain shower', 'icon': '//cdn.weatherapi.com/weather/64x64/day/353.png', 'code': 1240}, 'wind_mph': 9.2, 'wind_kph': 14.8, 'wind_degree': 294, 'wind_dir': 'WNW', 'pressure_mb': 1006.0, 'pressure_in': 30.2, 'precip_mm': 1.1, 'precip_in': 0.04, 'humidity': 90, 'cloud': 72, 'feelslike_c': 21.2, 'feelslike_f': 70.2, 'windchill_c': 21.2, 'windchill_f': 70.2, 'heatindex_c': 22.0, 'heatindex_f': 71.6, 'dewpoint_c': 19.4, 'dewpoint_f': 66.9, 'will_it_rain': 0, 'chance_of_rain': '57', 'will_it_snow': 0, 'chance_of_snow': '0', 'vis_km': 10.0, 'vis_miles': 6.0, 'gust_mph': 13.0, 'gust_kph': 20.9, 'uv': 5.0}, {'time_epoch': 1624363200, 'time': '2021-06-22 08:00', 'temp_c': 20.3, 'temp_f': 68.5, 'is_day': 1, 'condition': {'text': 'Light rain shower', 'icon': '//cdn.weatherapi.com/weather/64x64/day/353.png', 'code': 1240}, 'wind_mph': 11.6, 'wind_kph': 18.7, 'wind_degree': 320, 'wind_dir': 'NW', 'pressure_mb': 1007.0, 'pressure_in': 30.2, 'precip_mm': 1.5, 'precip_in': 0.06, 'humidity': 87, 'cloud': 69, 'feelslike_c': 20.3, 'feelslike_f': 68.5, 'windchill_c': 20.3, 'windchill_f': 68.5, 'heatindex_c': 20.3, 'heatindex_f': 68.5, 'dewpoint_c': 18.1, 'dewpoint_f': 64.6, 'will_it_rain': 0, 'chance_of_rain': '54', 'will_it_snow': 0, 'chance_of_snow': '0', 'vis_km': 10.0, 'vis_miles': 6.0, 'gust_mph': 16.3, 'gust_kph': 26.3, 'uv': 5.0}, {'time_epoch': 1624366800, 'time': '2021-06-22 09:00', 'temp_c': 20.6, 'temp_f': 69.1, 'is_day': 1, 'condition': {'text': 'Light rain shower', 'icon': '//cdn.weatherapi.com/weather/64x64/day/353.png', 'code': 1240}, 'wind_mph': 12.1, 'wind_kph': 19.4, 'wind_degree': 323, 'wind_dir': 'NW', 'pressure_mb': 1008.0, 'pressure_in': 30.2, 'precip_mm': 1.3, 'precip_in': 0.05, 'humidity': 80, 'cloud': 79, 'feelslike_c': 20.6, 'feelslike_f': 69.1, 'windchill_c': 20.6, 'windchill_f': 69.1, 'heatindex_c': 21.7, 'heatindex_f': 71.1, 'dewpoint_c': 16.9, 'dewpoint_f': 62.4, 'will_it_rain': 0, 'chance_of_rain': '55', 'will_it_snow': 0, 'chance_of_snow': '0', 'vis_km': 10.0, 'vis_miles': 6.0, 'gust_mph': 16.6, 'gust_kph': 26.6, 'uv': 5.0}, {'time_epoch': 1624370400, 'time': '2021-06-22 10:00', 'temp_c': 20.8, 'temp_f': 69.4, 'is_day': 1, 'condition': {'text': 'Light rain shower', 'icon': '//cdn.weatherapi.com/weather/64x64/day/353.png', 'code': 1240}, 'wind_mph': 12.5, 'wind_kph': 20.2, 'wind_degree': 326, 'wind_dir': 'NNW', 'pressure_mb': 1008.0, 'pressure_in': 30.2, 'precip_mm': 1.1, 'precip_in': 0.04, 'humidity': 73, 'cloud': 90, 'feelslike_c': 20.8, 'feelslike_f': 69.4, 'windchill_c': 20.8, 'windchill_f': 69.4, 'heatindex_c': 23.0, 'heatindex_f': 73.4, 'dewpoint_c': 15.7, 'dewpoint_f': 60.3, 'will_it_rain': 0, 'chance_of_rain': '57', 'will_it_snow': 0, 'chance_of_snow': '0', 'vis_km': 10.0, 'vis_miles': 6.0, 'gust_mph': 16.6, 'gust_kph': 26.6, 'uv': 5.0}, {'time_epoch': 1624374000, 'time': '2021-06-22 11:00', 'temp_c': 21.1, 'temp_f': 70.0, 'is_day': 1, 'condition': {'text': 'Light rain shower', 'icon': '//cdn.weatherapi.com/weather/64x64/day/353.png', 'code': 1240}, 'wind_mph': 13.0, 'wind_kph': 20.9, 'wind_degree': 329, 'wind_dir': 'NNW', 'pressure_mb': 1008.0, 'pressure_in': 30.3, 'precip_mm': 0.9, 'precip_in': 0.04, 'humidity': 66, 'cloud': 100, 'feelslike_c': 21.1, 'feelslike_f': 70.0, 'windchill_c': 21.1, 'windchill_f': 70.0, 'heatindex_c': 24.4, 'heatindex_f': 75.9, 'dewpoint_c': 14.5, 'dewpoint_f': 58.1, 'will_it_rain': 0, 'chance_of_rain': '58', 'will_it_snow': 0, 'chance_of_snow': '0', 'vis_km': 10.0, 'vis_miles': 6.0, 'gust_mph': 16.8, 'gust_kph': 27.0, 'uv': 5.0}, {'time_epoch': 1624377600, 'time': '2021-06-22 12:00', 'temp_c': 19.5, 'temp_f': 67.1, 'is_day': 1, 'condition': {'text': 'Light rain shower', 'icon': '//cdn.weatherapi.com/weather/64x64/day/353.png', 'code': 1240}, 'wind_mph': 12.5, 'wind_kph': 20.2, 'wind_degree': 329, 'wind_dir': 'NNW', 'pressure_mb': 1009.0, 'pressure_in': 30.3, 'precip_mm': 1.2, 'precip_in': 0.05, 'humidity': 71, 'cloud': 84, 'feelslike_c': 19.5, 'feelslike_f': 67.1, 'windchill_c': 19.5, 'windchill_f': 67.1, 'heatindex_c': 21.7, 'heatindex_f': 71.1, 'dewpoint_c': 14.0, 'dewpoint_f': 57.2, 'will_it_rain': 0, 'chance_of_rain': '67', 'will_it_snow': 0, 'chance_of_snow': '0', 'vis_km': 10.0, 'vis_miles': 6.0, 'gust_mph': 16.1, 'gust_kph': 25.9, 'uv': 4.0}, {'time_epoch': 1624381200, 'time': '2021-06-22 13:00', 'temp_c': 18.0, 'temp_f': 64.4, 'is_day': 1, 'condition': {'text': 'Light rain shower', 'icon': '//cdn.weatherapi.com/weather/64x64/day/353.png', 'code': 1240}, 'wind_mph': 11.9, 'wind_kph': 19.1, 'wind_degree': 328, 'wind_dir': 'NNW', 'pressure_mb': 1010.0, 'pressure_in': 30.3, 'precip_mm': 1.6, 'precip_in': 0.06, 'humidity': 76, 'cloud': 67, 'feelslike_c': 18.0, 'feelslike_f': 64.4, 'windchill_c': 18.0, 'windchill_f': 64.4, 'heatindex_c': 19.1, 'heatindex_f': 66.4, 'dewpoint_c': 13.5, 'dewpoint_f': 56.3, 'will_it_rain': 1, 'chance_of_rain': '75', 'will_it_snow': 0, 'chance_of_snow': '0', 'vis_km': 10.0, 'vis_miles': 6.0, 'gust_mph': 15.7, 'gust_kph': 25.2, 'uv': 4.0}, {'time_epoch': 1624384800, 'time': '2021-06-22 14:00', 'temp_c': 16.4, 'temp_f': 61.5, 'is_day': 1, 'condition': {'text': 'Light rain shower', 'icon': '//cdn.weatherapi.com/weather/64x64/day/353.png', 'code': 1240}, 'wind_mph': 11.4, 'wind_kph': 18.4, 'wind_degree': 327, 'wind_dir': 'NNW', 'pressure_mb': 1011.0, 'pressure_in': 30.3, 'precip_mm': 1.9, 'precip_in': 0.07, 'humidity': 80, 'cloud': 50, 'feelslike_c': 16.4, 'feelslike_f': 61.5, 'windchill_c': 16.4, 'windchill_f': 61.5, 'heatindex_c': 16.4, 'heatindex_f': 61.5, 'dewpoint_c': 13.0, 'dewpoint_f': 55.4, 'will_it_rain': 1, 'chance_of_rain': '84', 'will_it_snow': 0, 'chance_of_snow': '0', 'vis_km': 10.0, 'vis_miles': 6.0, 'gust_mph': 15.0, 'gust_kph': 24.1, 'uv': 4.0}, {'time_epoch': 1624388400, 'time': '2021-06-22 15:00', 'temp_c': 17.5, 'temp_f': 63.5, 'is_day': 1, 'condition': {'text': 'Patchy rain possible', 'icon': '//cdn.weatherapi.com/weather/64x64/day/176.png', 'code': 1063}, 'wind_mph': 11.6, 'wind_kph': 18.7, 'wind_degree': 324, 'wind_dir': 'NW', 'pressure_mb': 1011.0, 'pressure_in': 30.3, 'precip_mm': 1.3, 'precip_in': 0.05, 'humidity': 74, 'cloud': 63, 'feelslike_c': 17.5, 'feelslike_f': 63.5, 'windchill_c': 17.5, 'windchill_f': 63.5, 'heatindex_c': 17.5, 'heatindex_f': 63.5, 'dewpoint_c': 12.6, 'dewpoint_f': 54.7, 'will_it_rain': 1, 'chance_of_rain': '84', 'will_it_snow': 0, 'chance_of_snow': '0', 'vis_km': 10.0, 'vis_miles': 6.0, 'gust_mph': 14.5, 'gust_kph': 23.4, 'uv': 4.0}, {'time_epoch': 1624392000, 'time': '2021-06-22 16:00', 'temp_c': 18.7, 'temp_f': 65.7, 'is_day': 1, 'condition': {'text': 'Light rain shower', 'icon': '//cdn.weatherapi.com/weather/64x64/day/353.png', 'code': 1240}, 'wind_mph': 11.9, 'wind_kph': 19.1, 'wind_degree': 321, 'wind_dir': 'NW', 'pressure_mb': 1011.0, 'pressure_in': 30.3, 'precip_mm': 0.7, 'precip_in': 0.03, 'humidity': 67, 'cloud': 75, 'feelslike_c': 18.7, 'feelslike_f': 65.7, 'windchill_c': 18.7, 'windchill_f': 65.7, 'heatindex_c': 18.7, 'heatindex_f': 65.7, 'dewpoint_c': 12.3, 'dewpoint_f': 54.1, 'will_it_rain': 1, 'chance_of_rain': '84', 'will_it_snow': 0, 'chance_of_snow': '0', 'vis_km': 10.0, 'vis_miles': 6.0, 'gust_mph': 14.3, 'gust_kph': 23.0, 'uv': 4.0}, {'time_epoch': 1624395600, 'time': '2021-06-22 17:00', 'temp_c': 19.8, 'temp_f': 67.6, 'is_day': 1, 'condition': {'text': 'Patchy rain possible', 'icon': '//cdn.weatherapi.com/weather/64x64/day/176.png', 'code': 1063}, 'wind_mph': 12.1, 'wind_kph': 19.4, 'wind_degree': 319, 'wind_dir': 'NW', 'pressure_mb': 1011.0, 'pressure_in': 30.3, 'precip_mm': 0.1, 'precip_in': 0.0, 'humidity': 60, 'cloud': 87, 'feelslike_c': 19.8, 'feelslike_f': 67.6, 'windchill_c': 19.8, 'windchill_f': 67.6, 'heatindex_c': 19.8, 'heatindex_f': 67.6, 'dewpoint_c': 11.9, 'dewpoint_f': 53.4, 'will_it_rain': 1, 'chance_of_rain': '84', 'will_it_snow': 0, 'chance_of_snow': '0', 'vis_km': 10.0, 'vis_miles': 6.0, 'gust_mph': 13.9, 'gust_kph': 22.3, 'uv': 4.0}, {'time_epoch': 1624399200, 'time': '2021-06-22 18:00', 'temp_c': 19.1, 'temp_f': 66.4, 'is_day': 1, 'condition': {'text': 'Patchy rain possible', 'icon': '//cdn.weatherapi.com/weather/64x64/day/176.png', 'code': 1063}, 'wind_mph': 11.0, 'wind_kph': 17.6, 'wind_degree': 323, 'wind_dir': 'NW', 'pressure_mb': 1012.0, 'pressure_in': 30.4, 'precip_mm': 0.1, 'precip_in': 0.0, 'humidity': 56, 'cloud': 84, 'feelslike_c': 19.1, 'feelslike_f': 66.4, 'windchill_c': 19.1, 'windchill_f': 66.4, 'heatindex_c': 19.8, 'heatindex_f': 67.6, 'dewpoint_c': 11.3, 'dewpoint_f': 52.3, 'will_it_rain': 1, 'chance_of_rain': '82', 'will_it_snow': 0, 'chance_of_snow': '0', 'vis_km': 10.0, 'vis_miles': 6.0, 'gust_mph': 12.5, 'gust_kph': 20.2, 'uv': 4.0}, {'time_epoch': 1624402800, 'time': '2021-06-22 19:00', 'temp_c': 18.5, 'temp_f': 65.3, 'is_day': 1, 'condition': {'text': 'Patchy rain possible', 'icon': '//cdn.weatherapi.com/weather/64x64/day/176.png', 'code': 1063}, 'wind_mph': 9.6, 'wind_kph': 15.5, 'wind_degree': 327, 'wind_dir': 'NNW', 'pressure_mb': 1013.0, 'pressure_in': 30.4, 'precip_mm': 0.1, 'precip_in': 0.0, 'humidity': 52, 'cloud': 81, 'feelslike_c': 18.5, 'feelslike_f': 65.3, 'windchill_c': 18.5, 'windchill_f': 65.3, 'heatindex_c': 19.8, 'heatindex_f': 67.6, 'dewpoint_c': 10.7, 'dewpoint_f': 51.3, 'will_it_rain': 1, 'chance_of_rain': '80', 'will_it_snow': 0, 'chance_of_snow': '0', 'vis_km': 10.0, 'vis_miles': 6.0, 'gust_mph': 11.2, 'gust_kph': 18.0, 'uv': 4.0}, {'time_epoch': 1624406400, 'time': '2021-06-22 20:00', 'temp_c': 17.8, 'temp_f': 64.0, 'is_day': 1, 'condition': {'text': 'Patchy rain possible', 'icon': '//cdn.weatherapi.com/weather/64x64/day/176.png', 'code': 1063}, 'wind_mph': 8.5, 'wind_kph': 13.7, 'wind_degree': 331, 'wind_dir': 'NNW', 'pressure_mb': 1013.0, 'pressure_in': 30.4, 'precip_mm': 0.1, 'precip_in': 0.0, 'humidity': 47, 'cloud': 78, 'feelslike_c': 17.8, 'feelslike_f': 64.0, 'windchill_c': 17.8, 'windchill_f': 64.0, 'heatindex_c': 19.8, 'heatindex_f': 67.6, 'dewpoint_c': 10.1, 'dewpoint_f': 50.2, 'will_it_rain': 1, 'chance_of_rain': '78', 'will_it_snow': 0, 'chance_of_snow': '0', 'vis_km': 10.0, 'vis_miles': 6.0, 'gust_mph': 9.8, 'gust_kph': 15.8, 'uv': 4.0}, {'time_epoch': 1624410000, 'time': '2021-06-22 21:00', 'temp_c': 17.4, 'temp_f': 63.3, 'is_day': 0, 'condition': {'text': 'Clear', 'icon': '//cdn.weatherapi.com/weather/64x64/night/113.png', 'code': 1000}, 'wind_mph': 9.2, 'wind_kph': 14.8, 'wind_degree': 333, 'wind_dir': 'NNW', 'pressure_mb': 1014.0, 'pressure_in': 30.4, 'precip_mm': 0.1, 'precip_in': 0.0, 'humidity': 49, 'cloud': 52, 'feelslike_c': 17.4, 'feelslike_f': 63.3, 'windchill_c': 17.4, 'windchill_f': 63.3, 'heatindex_c': 18.8, 'heatindex_f': 65.8, 'dewpoint_c': 9.1, 'dewpoint_f': 48.4, 'will_it_rain': 0, 'chance_of_rain': '52', 'will_it_snow': 0, 'chance_of_snow': '0', 'vis_km': 10.0, 'vis_miles': 6.0, 'gust_mph': 11.0, 'gust_kph': 17.6, 'uv': 1.0}, {'time_epoch': 1624413600, 'time': '2021-06-22 22:00', 'temp_c': 17.1, 'temp_f': 62.8, 'is_day': 0, 'condition': {'text': 'Patchy rain possible', 'icon': '//cdn.weatherapi.com/weather/64x64/night/176.png', 'code': 1063}, 'wind_mph': 10.1, 'wind_kph': 16.2, 'wind_degree': 336, 'wind_dir': 'NNW', 'pressure_mb': 1015.0, 'pressure_in': 30.5, 'precip_mm': 0.0, 'precip_in': 0.0, 'humidity': 51, 'cloud': 26, 'feelslike_c': 17.1, 'feelslike_f': 62.8, 'windchill_c': 17.1, 'windchill_f': 62.8, 'heatindex_c': 17.7, 'heatindex_f': 63.9, 'dewpoint_c': 8.1, 'dewpoint_f': 46.6, 'will_it_rain': 0, 'chance_of_rain': '26', 'will_it_snow': 0, 'chance_of_snow': '0', 'vis_km': 10.0, 'vis_miles': 6.0, 'gust_mph': 12.3, 'gust_kph': 19.8, 'uv': 1.0}, {'time_epoch': 1624417200, 'time': '2021-06-22 23:00', 'temp_c': 16.7, 'temp_f': 62.1, 'is_day': 0, 'condition': {'text': 'Clear', 'icon': '//cdn.weatherapi.com/weather/64x64/night/113.png', 'code': 1000}, 'wind_mph': 10.7, 'wind_kph': 17.3, 'wind_degree': 338, 'wind_dir': 'NNW', 'pressure_mb': 1016.0, 'pressure_in': 30.5, 'precip_mm': 0.0, 'precip_in': 0.0, 'humidity': 53, 'cloud': 0, 'feelslike_c': 16.7, 'feelslike_f': 62.1, 'windchill_c': 16.7, 'windchill_f': 62.1, 'heatindex_c': 16.7, 'heatindex_f': 62.1, 'dewpoint_c': 7.1, 'dewpoint_f': 44.8, 'will_it_rain': 0, 'chance_of_rain': '0', 'will_it_snow': 0, 'chance_of_snow': '0', 'vis_km': 10.0, 'vis_miles': 6.0, 'gust_mph': 13.4, 'gust_kph': 21.6, 'uv': 1.0}]}]\n"
     ]
    }
   ],
   "source": [
    "#for temp in nyc_weather['forecast']['forecastday']:\n",
    "print(nyc_weather['forecast']['forecastday'])"
   ]
  },
  {
   "cell_type": "code",
   "execution_count": null,
   "metadata": {
    "collapsed": true
   },
   "outputs": [],
   "source": []
  },
  {
   "cell_type": "code",
   "execution_count": null,
   "metadata": {
    "collapsed": true
   },
   "outputs": [],
   "source": []
  },
  {
   "cell_type": "markdown",
   "metadata": {},
   "source": [
    "## 7) What's the weather looking like for the next 24+ hours in Miami, Florida?\n",
    "\n",
    "I'd like to know the temperature for every hour, and if it's going to have cloud cover of more than 50% say \"{temperature} and cloudy\" instead of just the temperature. \n",
    "\n",
    "- *Tip: You'll only need one day of forecast*"
   ]
  },
  {
   "cell_type": "code",
   "execution_count": 15,
   "metadata": {},
   "outputs": [],
   "source": [
    "import requests"
   ]
  },
  {
   "cell_type": "code",
   "execution_count": 16,
   "metadata": {},
   "outputs": [],
   "source": [
    "url_one = requests.get(\"http://api.weatherapi.com/v1/current.json?key=f8bcc9708bab402f80313027211706&q=miami%20florida&days=1&aqi=no&alerts=no\")"
   ]
  },
  {
   "cell_type": "code",
   "execution_count": 17,
   "metadata": {},
   "outputs": [],
   "source": [
    "miami = url_one.json()"
   ]
  },
  {
   "cell_type": "code",
   "execution_count": 18,
   "metadata": {},
   "outputs": [
    {
     "name": "stdout",
     "output_type": "stream",
     "text": [
      "{'name': 'Miami', 'region': 'Florida', 'country': 'United States of America', 'lat': 25.77, 'lon': -80.19, 'tz_id': 'America/Kentucky/Monticello', 'localtime_epoch': 1624202249, 'localtime': '2021-06-20 11:17'}\n"
     ]
    }
   ],
   "source": [
    "print(miami['location'])"
   ]
  },
  {
   "cell_type": "code",
   "execution_count": 19,
   "metadata": {},
   "outputs": [
    {
     "name": "stdout",
     "output_type": "stream",
     "text": [
      "2021-06-20 10:00\n"
     ]
    }
   ],
   "source": [
    "print(miami['current']['last_updated'])"
   ]
  },
  {
   "cell_type": "raw",
   "metadata": {},
   "source": []
  },
  {
   "cell_type": "code",
   "execution_count": 20,
   "metadata": {},
   "outputs": [
    {
     "name": "stdout",
     "output_type": "stream",
     "text": [
      "{'last_updated_epoch': 1624197600, 'last_updated': '2021-06-20 10:00', 'temp_c': 31.1, 'temp_f': 88.0, 'is_day': 1, 'condition': {'text': 'Partly cloudy', 'icon': '//cdn.weatherapi.com/weather/64x64/day/116.png', 'code': 1003}, 'wind_mph': 9.4, 'wind_kph': 15.1, 'wind_degree': 170, 'wind_dir': 'S', 'pressure_mb': 1019.0, 'pressure_in': 30.6, 'precip_mm': 0.8, 'precip_in': 0.03, 'humidity': 73, 'cloud': 75, 'feelslike_c': 40.1, 'feelslike_f': 104.2, 'vis_km': 16.0, 'vis_miles': 9.0, 'uv': 6.0, 'gust_mph': 17.2, 'gust_kph': 27.7}\n"
     ]
    }
   ],
   "source": [
    "print(miami['current'])"
   ]
  },
  {
   "cell_type": "code",
   "execution_count": 21,
   "metadata": {},
   "outputs": [
    {
     "name": "stdout",
     "output_type": "stream",
     "text": [
      "the weather in Miami is looking like 88.0 with cloud coverage at 75\n"
     ]
    }
   ],
   "source": [
    "print(\"the weather in Miami is looking like\", miami['current']['temp_f'],\"with cloud coverage at\", miami['current']['cloud'])"
   ]
  },
  {
   "cell_type": "code",
   "execution_count": null,
   "metadata": {},
   "outputs": [],
   "source": []
  },
  {
   "cell_type": "code",
   "execution_count": null,
   "metadata": {},
   "outputs": [],
   "source": []
  },
  {
   "cell_type": "code",
   "execution_count": null,
   "metadata": {},
   "outputs": [],
   "source": []
  },
  {
   "cell_type": "markdown",
   "metadata": {},
   "source": [
    "# 8) For the next 24-ish hours in Miami, what percent of the time is the temperature above 85 degrees?\n",
    "\n",
    "- *Tip: You might want to read up on [looping patterns](http://jonathansoma.com/lede/foundations-2017/classes/data%20structures/looping-patterns/)*"
   ]
  },
  {
   "cell_type": "code",
   "execution_count": 50,
   "metadata": {},
   "outputs": [
    {
     "name": "stdout",
     "output_type": "stream",
     "text": [
      "{'last_updated_epoch': 1624020300, 'last_updated': '2021-06-18 08:45', 'temp_c': 27.8, 'temp_f': 82.0, 'is_day': 1, 'condition': {'text': 'Overcast', 'icon': '//cdn.weatherapi.com/weather/64x64/day/122.png', 'code': 1009}, 'wind_mph': 6.9, 'wind_kph': 11.2, 'wind_degree': 90, 'wind_dir': 'E', 'pressure_mb': 1018.0, 'pressure_in': 30.5, 'precip_mm': 0.1, 'precip_in': 0.0, 'humidity': 85, 'cloud': 100, 'feelslike_c': 31.1, 'feelslike_f': 87.9, 'vis_km': 14.0, 'vis_miles': 8.0, 'uv': 1.0, 'gust_mph': 14.5, 'gust_kph': 23.4}\n"
     ]
    }
   ],
   "source": [
    "print(miami['current'])"
   ]
  },
  {
   "cell_type": "code",
   "execution_count": null,
   "metadata": {
    "collapsed": true
   },
   "outputs": [],
   "source": []
  },
  {
   "cell_type": "code",
   "execution_count": null,
   "metadata": {
    "collapsed": true
   },
   "outputs": [],
   "source": []
  },
  {
   "cell_type": "markdown",
   "metadata": {},
   "source": [
    "## 9) What was the temperature in Central Park on Christmas Day, 2020? How about 2012? 2007? How far back does the API allow you to go?\n",
    "\n",
    "- *Tip: You'll need to use latitude/longitude. You can ask Google where Central Park is, it knows*\n",
    "- *Tip: Remember when latitude/longitude might use negative numbers*"
   ]
  },
  {
   "cell_type": "code",
   "execution_count": 24,
   "metadata": {},
   "outputs": [],
   "source": [
    "import requests"
   ]
  },
  {
   "cell_type": "code",
   "execution_count": 25,
   "metadata": {},
   "outputs": [],
   "source": [
    "x_link = requests.get(\"http://api.weatherapi.com/v1/forecast.json?key=f8bcc9708bab402f80313027211706&q=central park &end_dt=2020-12-25&aqi=no&alerts=no\")"
   ]
  },
  {
   "cell_type": "code",
   "execution_count": 26,
   "metadata": {},
   "outputs": [],
   "source": [
    "christmas = x_link.json()"
   ]
  },
  {
   "cell_type": "code",
   "execution_count": 27,
   "metadata": {},
   "outputs": [
    {
     "name": "stdout",
     "output_type": "stream",
     "text": [
      "dict_keys(['location', 'current', 'forecast'])\n"
     ]
    }
   ],
   "source": [
    "print(christmas.keys())"
   ]
  },
  {
   "cell_type": "code",
   "execution_count": 28,
   "metadata": {},
   "outputs": [
    {
     "name": "stdout",
     "output_type": "stream",
     "text": [
      "dict_keys(['last_updated_epoch', 'last_updated', 'temp_c', 'temp_f', 'is_day', 'condition', 'wind_mph', 'wind_kph', 'wind_degree', 'wind_dir', 'pressure_mb', 'pressure_in', 'precip_mm', 'precip_in', 'humidity', 'cloud', 'feelslike_c', 'feelslike_f', 'vis_km', 'vis_miles', 'uv', 'gust_mph', 'gust_kph'])\n"
     ]
    }
   ],
   "source": [
    "print(christmas['current'].keys())"
   ]
  },
  {
   "cell_type": "code",
   "execution_count": 30,
   "metadata": {},
   "outputs": [
    {
     "name": "stdout",
     "output_type": "stream",
     "text": [
      "1\n"
     ]
    }
   ],
   "source": [
    "print(christmas['current']['is_day'])"
   ]
  },
  {
   "cell_type": "code",
   "execution_count": null,
   "metadata": {},
   "outputs": [],
   "source": []
  },
  {
   "cell_type": "code",
   "execution_count": null,
   "metadata": {},
   "outputs": [],
   "source": [
    "#print(\"The weather in Central Park Christmas day of 2020 was\", chritmas['current'])"
   ]
  }
 ],
 "metadata": {
  "kernelspec": {
   "display_name": "Python 3",
   "language": "python",
   "name": "python3"
  },
  "language_info": {
   "codemirror_mode": {
    "name": "ipython",
    "version": 3
   },
   "file_extension": ".py",
   "mimetype": "text/x-python",
   "name": "python",
   "nbconvert_exporter": "python",
   "pygments_lexer": "ipython3",
   "version": "3.8.10"
  }
 },
 "nbformat": 4,
 "nbformat_minor": 1
}
